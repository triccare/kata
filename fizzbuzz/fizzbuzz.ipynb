{
 "metadata": {
  "name": "",
  "signature": "sha256:ae367d0308073a8b0c31f03bdcd37d960094d9da3d6cb13fc4d85f0fe21da7c7"
 },
 "nbformat": 3,
 "nbformat_minor": 0,
 "worksheets": [
  {
   "cells": [
    {
     "cell_type": "heading",
     "level": 2,
     "metadata": {},
     "source": [
      "Abstract"
     ]
    },
    {
     "cell_type": "markdown",
     "metadata": {},
     "source": [
      "Return \u201cfizz\u201d, \u201cbuzz\u201d or \u201cfizzbuzz\u201d.\n",
      "\n",
      "For a given natural number greater zero return\n",
      "\n",
      "\u201cfizz\u201d if the number is dividable by 3\n",
      "\u201cbuzz\u201d if the number is dividable by 5\n",
      "\u201cfizzbuzz\u201d if the number is dividable by 15"
     ]
    },
    {
     "cell_type": "heading",
     "level": 2,
     "metadata": {},
     "source": [
      "Environment"
     ]
    },
    {
     "cell_type": "code",
     "collapsed": false,
     "input": [
      "%load_ext ipython_nose\n",
      "\n",
      "import nose.tools as nt"
     ],
     "language": "python",
     "metadata": {},
     "outputs": [],
     "prompt_number": 1
    },
    {
     "cell_type": "heading",
     "level": 2,
     "metadata": {},
     "source": [
      "Library"
     ]
    },
    {
     "cell_type": "code",
     "collapsed": false,
     "input": [
      "full_test = {\n",
      "    ( 1,          1),\n",
      "    ( 2,          2),\n",
      "    ( 3,     'fizz'),\n",
      "    ( 4,          4),\n",
      "    ( 5,     'buzz'),\n",
      "    ( 6,     'fizz'),\n",
      "    (10,     'buzz'),\n",
      "    (15, 'fizzbuzz'),\n",
      "}"
     ],
     "language": "python",
     "metadata": {},
     "outputs": [],
     "prompt_number": 2
    },
    {
     "cell_type": "heading",
     "level": 2,
     "metadata": {},
     "source": [
      "Main"
     ]
    },
    {
     "cell_type": "heading",
     "level": 3,
     "metadata": {},
     "source": [
      "Tests"
     ]
    },
    {
     "cell_type": "code",
     "collapsed": false,
     "input": [
      "%nose"
     ],
     "language": "python",
     "metadata": {},
     "outputs": [
      {
       "html": [
        "<div id=\"ipython_nose_8ac31619d55d418f86571295c89a9424\"></div>"
       ],
       "metadata": {},
       "output_type": "display_data"
      },
      {
       "javascript": [
        "document.ipython_nose_8ac31619d55d418f86571295c89a9424 = $(\"#ipython_nose_8ac31619d55d418f86571295c89a9424\");"
       ],
       "metadata": {},
       "output_type": "display_data"
      },
      {
       "javascript": [
        "delete document.ipython_nose_8ac31619d55d418f86571295c89a9424;"
       ],
       "metadata": {},
       "output_type": "display_data"
      },
      {
       "html": [
        "No tests found."
       ],
       "metadata": {},
       "output_type": "pyout",
       "prompt_number": 3,
       "text": [
        "No tests found."
       ]
      }
     ],
     "prompt_number": 3
    },
    {
     "cell_type": "code",
     "collapsed": false,
     "input": [],
     "language": "python",
     "metadata": {},
     "outputs": [],
     "prompt_number": 3
    }
   ],
   "metadata": {}
  }
 ]
}