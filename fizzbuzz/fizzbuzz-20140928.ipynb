{
 "metadata": {
  "name": "",
  "signature": "sha256:f4a47d82ca7b69a9e64f3202986079da798c0ce568c77ed0836b8d689c633cda"
 },
 "nbformat": 3,
 "nbformat_minor": 0,
 "worksheets": [
  {
   "cells": [
    {
     "cell_type": "heading",
     "level": 2,
     "metadata": {},
     "source": [
      "Abstract"
     ]
    },
    {
     "cell_type": "markdown",
     "metadata": {},
     "source": [
      "Return \u201cfizz\u201d, \u201cbuzz\u201d or \u201cfizzbuzz\u201d.\n",
      "\n",
      "For a given natural number greater zero return\n",
      "\n",
      "\u201cfizz\u201d if the number is dividable by 3\n",
      "\u201cbuzz\u201d if the number is dividable by 5\n",
      "\u201cfizzbuzz\u201d if the number is dividable by 15"
     ]
    },
    {
     "cell_type": "heading",
     "level": 2,
     "metadata": {},
     "source": [
      "Environment"
     ]
    },
    {
     "cell_type": "code",
     "collapsed": false,
     "input": [
      "%load_ext ipython_nose\n",
      "\n",
      "import nose.tools as nt"
     ],
     "language": "python",
     "metadata": {},
     "outputs": [],
     "prompt_number": 1
    },
    {
     "cell_type": "heading",
     "level": 2,
     "metadata": {},
     "source": [
      "Library"
     ]
    },
    {
     "cell_type": "code",
     "collapsed": false,
     "input": [
      "full_test = {\n",
      "    ( 1,          1),\n",
      "    ( 2,          2),\n",
      "    ( 3,     'fizz'),\n",
      "    ( 4,          4),\n",
      "    ( 5,     'buzz'),\n",
      "    ( 6,     'fizz'),\n",
      "    (10,     'buzz'),\n",
      "    (15, 'fizzbuzz'),\n",
      "}"
     ],
     "language": "python",
     "metadata": {},
     "outputs": [],
     "prompt_number": 2
    },
    {
     "cell_type": "code",
     "collapsed": false,
     "input": [
      "def fizzbuzz(value):\n",
      "    result = ''\n",
      "    if not (value % 3):\n",
      "        result = 'fizz'\n",
      "    if not (value % 5):\n",
      "        result += 'buzz'\n",
      "    if not result:\n",
      "        result = value\n",
      "        \n",
      "    return result"
     ],
     "language": "python",
     "metadata": {},
     "outputs": [],
     "prompt_number": 3
    },
    {
     "cell_type": "heading",
     "level": 2,
     "metadata": {},
     "source": [
      "Main"
     ]
    },
    {
     "cell_type": "heading",
     "level": 3,
     "metadata": {},
     "source": [
      "Tests"
     ]
    },
    {
     "cell_type": "code",
     "collapsed": false,
     "input": [
      "def check_true(logical, msg):\n",
      "    assert logical, msg"
     ],
     "language": "python",
     "metadata": {},
     "outputs": [],
     "prompt_number": 4
    },
    {
     "cell_type": "code",
     "collapsed": false,
     "input": [
      "def test_fizzbuzz():\n",
      "    for input, output in full_test:\n",
      "        computed = fizzbuzz(input)\n",
      "        yield (check_true,\n",
      "               output == computed,\n",
      "               'For input {}, predicted output {} not equal to computed {}.'.format(input, output, computed)\n",
      "               )"
     ],
     "language": "python",
     "metadata": {},
     "outputs": [],
     "prompt_number": 5
    },
    {
     "cell_type": "code",
     "collapsed": false,
     "input": [
      "%nose"
     ],
     "language": "python",
     "metadata": {},
     "outputs": [
      {
       "html": [
        "<div id=\"ipython_nose_079a754fa29a402da2e19f5112028e25\"></div>"
       ],
       "metadata": {},
       "output_type": "display_data"
      },
      {
       "javascript": [
        "document.ipython_nose_079a754fa29a402da2e19f5112028e25 = $(\"#ipython_nose_079a754fa29a402da2e19f5112028e25\");"
       ],
       "metadata": {},
       "output_type": "display_data"
      },
      {
       "javascript": [
        "document.ipython_nose_079a754fa29a402da2e19f5112028e25.append($(\"<span>.</span>\"));"
       ],
       "metadata": {},
       "output_type": "display_data"
      },
      {
       "javascript": [
        "document.ipython_nose_079a754fa29a402da2e19f5112028e25.append($(\"<span>.</span>\"));"
       ],
       "metadata": {},
       "output_type": "display_data"
      },
      {
       "javascript": [
        "document.ipython_nose_079a754fa29a402da2e19f5112028e25.append($(\"<span>.</span>\"));"
       ],
       "metadata": {},
       "output_type": "display_data"
      },
      {
       "javascript": [
        "document.ipython_nose_079a754fa29a402da2e19f5112028e25.append($(\"<span>.</span>\"));"
       ],
       "metadata": {},
       "output_type": "display_data"
      },
      {
       "javascript": [
        "document.ipython_nose_079a754fa29a402da2e19f5112028e25.append($(\"<span>.</span>\"));"
       ],
       "metadata": {},
       "output_type": "display_data"
      },
      {
       "javascript": [
        "document.ipython_nose_079a754fa29a402da2e19f5112028e25.append($(\"<span>.</span>\"));"
       ],
       "metadata": {},
       "output_type": "display_data"
      },
      {
       "javascript": [
        "document.ipython_nose_079a754fa29a402da2e19f5112028e25.append($(\"<span>.</span>\"));"
       ],
       "metadata": {},
       "output_type": "display_data"
      },
      {
       "javascript": [
        "document.ipython_nose_079a754fa29a402da2e19f5112028e25.append($(\"<span>.</span>\"));"
       ],
       "metadata": {},
       "output_type": "display_data"
      },
      {
       "javascript": [
        "delete document.ipython_nose_079a754fa29a402da2e19f5112028e25;"
       ],
       "metadata": {},
       "output_type": "display_data"
      },
      {
       "html": [
        "    <style type=\"text/css\">\n",
        "        span.nosefailedfunc {\n",
        "            font-family: monospace;\n",
        "            font-weight: bold;\n",
        "        }\n",
        "        div.noseresults {\n",
        "            width: 100%;\n",
        "        }\n",
        "        div.nosebar {\n",
        "            float: left;\n",
        "            padding: 1ex 0px 1ex 0px;\n",
        "        }\n",
        "        div.nosebar.fail {\n",
        "            background: #ff3019; /* Old browsers */\n",
        "            /* FF3.6+ */\n",
        "            background: -moz-linear-gradient(top, #ff3019 0%, #cf0404 100%);\n",
        "            /* Chrome,Safari4+ */\n",
        "            background: -webkit-gradient(linear, left top, left bottom,\n",
        "                                         color-stop(0%,#ff3019),\n",
        "                                         color-stop(100%,#cf0404));\n",
        "            /* Chrome10+,Safari5.1+ */\n",
        "            background: -webkit-linear-gradient(top, #ff3019 0%,#cf0404 100%);\n",
        "            /* Opera 11.10+ */\n",
        "            background: -o-linear-gradient(top, #ff3019 0%,#cf0404 100%);\n",
        "            /* IE10+ */\n",
        "            background: -ms-linear-gradient(top, #ff3019 0%,#cf0404 100%);\n",
        "            /* W3C */\n",
        "            background: linear-gradient(to bottom, #ff3019 0%,#cf0404 100%);\n",
        "        }\n",
        "        div.nosebar.pass {\n",
        "            background: #52b152;\n",
        "            background: -moz-linear-gradient(top, #52b152 1%, #008a00 100%);\n",
        "            background: -webkit-gradient(linear, left top, left bottom,\n",
        "                                         color-stop(1%,#52b152),\n",
        "                                         color-stop(100%,#008a00));\n",
        "            background: -webkit-linear-gradient(top, #52b152 1%,#008a00 100%);\n",
        "            background: -o-linear-gradient(top, #52b152 1%,#008a00 100%);\n",
        "            background: -ms-linear-gradient(top, #52b152 1%,#008a00 100%);\n",
        "            background: linear-gradient(to bottom, #52b152 1%,#008a00 100%);\n",
        "        }\n",
        "        div.nosebar.skip {\n",
        "            background: #f1e767;\n",
        "            background: -moz-linear-gradient(top, #f1e767 0%, #feb645 100%);\n",
        "            background: -webkit-gradient(linear, left top, left bottom,\n",
        "                                         color-stop(0%,#f1e767),\n",
        "                                         color-stop(100%,#feb645));\n",
        "            background: -webkit-linear-gradient(top, #f1e767 0%,#feb645 100%);\n",
        "            background: -o-linear-gradient(top, #f1e767 0%,#feb645 100%);\n",
        "            background: -ms-linear-gradient(top, #f1e767 0%,#feb645 100%);\n",
        "            background: linear-gradient(to bottom, #f1e767 0%,#feb645 100%);\n",
        "        }\n",
        "        div.nosebar.leftmost {\n",
        "            border-radius: 4px 0 0 4px;\n",
        "        }\n",
        "        div.nosebar.rightmost {\n",
        "            border-radius: 0 4px 4px 0;\n",
        "        }\n",
        "        div.nosefailbanner {\n",
        "            border-radius: 4px 0 0 4px;\n",
        "            border-left: 10px solid #cf0404;\n",
        "            padding: 0.5ex 0em 0.5ex 1em;\n",
        "            margin-top: 1ex;\n",
        "            margin-bottom: 0px;\n",
        "        }\n",
        "        div.nosefailbanner.expanded {\n",
        "            border-radius: 4px 4px 0 0;\n",
        "            border-top: 10px solid #cf0404;\n",
        "        }\n",
        "        pre.nosetraceback {\n",
        "            border-radius: 0 4px 4px 4px;\n",
        "            border-left: 10px solid #cf0404;\n",
        "            padding: 1em;\n",
        "            margin-left: 0px;\n",
        "            margin-top: 0px;\n",
        "            display: none;\n",
        "        }\n",
        "    </style>\n",
        "    \n",
        "    <script>\n",
        "        setTimeout(function () {\n",
        "            $('.nosefailtoggle').bind(\n",
        "                'click',\n",
        "                function () {\n",
        "                    $(\n",
        "                        $(this)\n",
        "                            .parent().toggleClass('expanded')\n",
        "                            .parent()\n",
        "                            .children()\n",
        "                            .filter('.nosetraceback')\n",
        "                    ).toggle();\n",
        "                }\n",
        "            );},\n",
        "            0);\n",
        "    </script>\n",
        "    \n",
        "    <div class=\"noseresults\">\n",
        "      <div class=\"nosebar fail leftmost\" style=\"width: 0%\">\n",
        "          &nbsp;\n",
        "      </div>\n",
        "      <div class=\"nosebar skip\" style=\"width: 0%\">\n",
        "          &nbsp;\n",
        "      </div>\n",
        "      <div class=\"nosebar pass rightmost\" style=\"width: 100%\">\n",
        "          &nbsp;\n",
        "      </div>\n",
        "      8/8 tests passed\n",
        "    </div>\n",
        "    "
       ],
       "metadata": {},
       "output_type": "pyout",
       "prompt_number": 6,
       "text": [
        "8/8 tests passed\n"
       ]
      }
     ],
     "prompt_number": 6
    },
    {
     "cell_type": "code",
     "collapsed": false,
     "input": [],
     "language": "python",
     "metadata": {},
     "outputs": [],
     "prompt_number": 6
    }
   ],
   "metadata": {}
  }
 ]
}