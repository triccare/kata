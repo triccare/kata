{
 "metadata": {
  "name": "",
  "signature": "sha256:bd553f695f535f72dfddf8b5a4f5f2f58b74c66830eef9b4f1bb057c5874be4e"
 },
 "nbformat": 3,
 "nbformat_minor": 0,
 "worksheets": [
  {
   "cells": [
    {
     "cell_type": "heading",
     "level": 2,
     "metadata": {},
     "source": [
      "Abstract"
     ]
    },
    {
     "cell_type": "heading",
     "level": 3,
     "metadata": {},
     "source": [
      "Instructions"
     ]
    },
    {
     "cell_type": "markdown",
     "metadata": {},
     "source": [
      "Copy the basic notebook to a notebook with a date indicator. Perform the kata in this new notebook."
     ]
    },
    {
     "cell_type": "heading",
     "level": 3,
     "metadata": {},
     "source": [
      "Scenario"
     ]
    },
    {
     "cell_type": "markdown",
     "metadata": {},
     "source": [
      "#### Count and sum the scores of a bowling game of one player.\n",
      "\n",
      "A bowling game consists of 10 frames in which the player tries to knock down the 10 pins. In every frame the player can throw one or two times. The actual number depends on strikes and spares. The score of a frame is the number of knocked down pins plus bonuses for strikes and spares. After every frame the 10 pins are resettet.\n",
      "\n",
      "#### Strikes\n",
      "\n",
      "The player has a strike of he knocks down all 10 pins with the first roll in a frame. The frame ends immediately (since there are no pins left for a second roll). The bonus for that frame is the number of pins knocked down by the next two rolls. That is the next frame, except if the player rolls a strike again.\n",
      "\n",
      "#### Spares\n",
      "\n",
      "The player has a spare if the knocks down all 10 pins with the two roles of a frame. The bonus for that frame is the number of pins knocked down by the next roll (first role of next frame).\n",
      "\n",
      "#### 10th frame\n",
      "\n",
      "If the player rolls a strike or spare in the 10th frame he can roll the additional balls for the bonus. But he can never roll more than 3 balls in the 10th frame. The additional rolls only count for the bonus not for the regular frame count.\n",
      "\n",
      "* 10, 10, 10 in the 10th frame gives 30 points (10 points for the regular first strike and 20 points for the bonus)\n",
      "* 1, 9, 10 in the 10th frame gives 20 points (10 points for the regular spare and 10 points for the bonus)\n",
      "\n",
      "#### Gutter Game\n",
      "\n",
      "A Gutter Game is when the player never hits a pin (20 zero scores).\n",
      "\n",
      "#### Perfect Game\n",
      "\n",
      "A Perfect Game is when the player rolls 12 strikes (10 regular strikes and 2 strikes for the bonus in the 10th frame). The Perfect Game scores to 300 points."
     ]
    },
    {
     "cell_type": "heading",
     "level": 3,
     "metadata": {},
     "source": [
      "Task"
     ]
    },
    {
     "cell_type": "markdown",
     "metadata": {},
     "source": [
      "Write a class BowlingGame with two methods\n",
      "+ roll(pins : int)\n",
      "+ score() : int\n",
      "\n",
      "For every roll the roll method is called. The score method returns the total score."
     ]
    },
    {
     "cell_type": "heading",
     "level": 2,
     "metadata": {},
     "source": [
      "Environment"
     ]
    },
    {
     "cell_type": "code",
     "collapsed": false,
     "input": [
      "%load_ext ipython_nose\n",
      "\n",
      "import nose.tools as nt\n",
      "\n",
      "from collections import deque"
     ],
     "language": "python",
     "metadata": {},
     "outputs": [],
     "prompt_number": 1
    },
    {
     "cell_type": "heading",
     "level": 2,
     "metadata": {},
     "source": [
      "Library"
     ]
    },
    {
     "cell_type": "code",
     "collapsed": false,
     "input": [
      "def increment_append(lst, count, increment=1):\n",
      "    '''Increment the next n elements of the list.\n",
      "    If the list isn't long enough, append new elements\n",
      "    '''\n",
      "    \n",
      "    for idx in range(count):\n",
      "        try:\n",
      "            lst[idx] += increment\n",
      "        except:\n",
      "            lst.append(increment)"
     ],
     "language": "python",
     "metadata": {},
     "outputs": [],
     "prompt_number": 2
    },
    {
     "cell_type": "code",
     "collapsed": false,
     "input": [
      "class BowlingGame(object):\n",
      "    '''A bowling game\n",
      "    \n",
      "    Attributes\n",
      "    ----------\n",
      "    current_frame: int\n",
      "                   Working frame\n",
      "           \n",
      "    current_roll: int\n",
      "                  The current roll in frame.\n",
      "          \n",
      "    current_score: int\n",
      "                   The score. If the game is not\n",
      "                   complete, this score may be inaccurate.\n",
      "    \n",
      "    Methods\n",
      "    -------\n",
      "    roll(pins)\n",
      "        Peform a roll which results in the specified\n",
      "        pins down.\n",
      "        \n",
      "    score(partial): int\n",
      "                    Returns the score of a game. If partial is False,\n",
      "                    the game must have been completed.\n",
      "    '''\n",
      "    \n",
      "    def __init__(self):\n",
      "        self.current_frame = 0\n",
      "        self.current_roll = 0\n",
      "        self.current_score = 0\n",
      "    \n",
      "        self._marks = deque([])\n",
      "        self._first_roll = 0\n",
      "        \n",
      "    def roll(self, pins):\n",
      "        '''Perform a roll which results in the pins downed.\n",
      "        \n",
      "        Parameters\n",
      "        ----------\n",
      "        pins: int\n",
      "              The pins down.\n",
      "        '''\n",
      "        \n",
      "        # Check for validity of the roll.\n",
      "        if pins < 0 or pins > 10:\n",
      "            raise RuntimeError('Invalid roll. Pins {} not in [0,10]'.format(pins))\n",
      "            \n",
      "        if self.current_frame is None:\n",
      "            raise RuntimeError('Game is over. Cannot do any more rolls.')\n",
      "            \n",
      "        # Add in a working mark.\n",
      "        try:\n",
      "            multiplier = self._marks.popleft()\n",
      "            self.current_score += multiplier * pins\n",
      "        except Exception as e:\n",
      "             pass\n",
      "        \n",
      "        # Handle the roll.\n",
      "        self.current_roll += 1\n",
      "        if (self.current_roll > 2 and self.current_frame < 10) or self.current_frame == 0:\n",
      "            self.current_frame += 1\n",
      "            self.current_roll = 1\n",
      "            \n",
      "        # Handle frame.\n",
      "        if self.current_roll == 1:\n",
      "            self.current_score += pins\n",
      "            self._first_roll = pins\n",
      "            \n",
      "            # Strike\n",
      "            if pins == 10:\n",
      "                self.current_roll += 1\n",
      "                increment_append(self._marks, 2)\n",
      "                \n",
      "        elif self.current_roll == 2:\n",
      "            total_pins = self._first_roll + pins\n",
      "            if total_pins < 0 or total_pins > 10:\n",
      "                raise RuntimeError('Invalid total pins for frame: {}'.format(total_pins))\n",
      "                \n",
      "            self.current_score += pins\n",
      "            \n",
      "            # Spare\n",
      "            if total_pins == 10:\n",
      "                increment_append(self._marks, 1)\n",
      "                \n",
      "        # Handle end of game\n",
      "        if self.current_frame == 10 and len(self._marks) == 0 and self.current_roll >= 2:\n",
      "            self.current_frame = None\n",
      "        \n",
      "    def score(self, partial=False):\n",
      "        '''Return the current state of the game.\n",
      "        \n",
      "        Parameters\n",
      "        ----------\n",
      "        partial: boolean\n",
      "                 If True, allows return of a non-complete game.\n",
      "                 \n",
      "        Returns\n",
      "        -------\n",
      "        score: int\n",
      "               The game's score.\n",
      "            \n",
      "        '''\n",
      "        \n",
      "        if not partial and self.current_frame is not None:\n",
      "            raise RuntimeError('Game is not over, cannot give score.')\n",
      "            \n",
      "        return self.current_score\n",
      "            "
     ],
     "language": "python",
     "metadata": {},
     "outputs": [],
     "prompt_number": 3
    },
    {
     "cell_type": "heading",
     "level": 2,
     "metadata": {},
     "source": [
      "Main"
     ]
    },
    {
     "cell_type": "heading",
     "level": 3,
     "metadata": {},
     "source": [
      "Test cases"
     ]
    },
    {
     "cell_type": "code",
     "collapsed": false,
     "input": [
      "game_basic_frame = (\n",
      "    True,\n",
      "    [\n",
      "    ( 1, 1,   1,    1),\n",
      "    ( 1, 2,   4,    5)\n",
      "])"
     ],
     "language": "python",
     "metadata": {},
     "outputs": [],
     "prompt_number": 4
    },
    {
     "cell_type": "code",
     "collapsed": false,
     "input": [
      "game_basic_spare = (\n",
      "    True,\n",
      "    [\n",
      "    ( 1, 1,   5, None),\n",
      "    ( 1, 2,   5,   13),\n",
      "    ( 2, 1,   3, None),\n",
      "    ( 2, 2,   3,   19),\n",
      "])"
     ],
     "language": "python",
     "metadata": {},
     "outputs": [],
     "prompt_number": 5
    },
    {
     "cell_type": "code",
     "collapsed": false,
     "input": [
      "game_basic_strike = (\n",
      "    True,\n",
      "    [\n",
      "    ( 1, 1,   10,   16),\n",
      "    ( 2, 1,    3, None),\n",
      "    ( 2, 2,    3,   22),\n",
      "])"
     ],
     "language": "python",
     "metadata": {},
     "outputs": [],
     "prompt_number": 6
    },
    {
     "cell_type": "code",
     "collapsed": false,
     "input": [
      "game_multi_strike = (\n",
      "    True,\n",
      "    [\n",
      "    ( 1, 1,   10,   30),\n",
      "    ( 2, 1,   10,   51),\n",
      "    ( 3, 1,   10,   63),\n",
      "    ( 4, 1,    1, None),\n",
      "    ( 4, 2,    1,   65),\n",
      "])"
     ],
     "language": "python",
     "metadata": {},
     "outputs": [],
     "prompt_number": 7
    },
    {
     "cell_type": "code",
     "collapsed": false,
     "input": [
      "game_typical = (\n",
      "    True,\n",
      "    [\n",
      "    ( 1, 1,    1,   0),\n",
      "    ( 1, 2,    4,   5),\n",
      "    ( 2, 1,    4,   5),\n",
      "    ( 2, 2,    5,  14),\n",
      "    ( 3, 1,    6,  14),\n",
      "    ( 3, 2,    4,  29),\n",
      "    ( 4, 1,    5,  29),\n",
      "    ( 4, 2,    5,  49),\n",
      "    ( 5, 1,   10,  49),\n",
      "    ( 6, 1,    0,  60),\n",
      "    ( 6, 2,    1,  61),\n",
      "    ( 7, 1,    7,  61),\n",
      "    ( 7, 2,    3,  77),\n",
      "    ( 8, 1,    6,  77),\n",
      "    ( 8, 2,    4,  97),\n",
      "    ( 9, 1,   10,  97),\n",
      "    (10, 1,    2, 117),\n",
      "    (10, 2,    8, 117),\n",
      "    (10, 3,    6, 133)\n",
      "])"
     ],
     "language": "python",
     "metadata": {},
     "outputs": [],
     "prompt_number": 8
    },
    {
     "cell_type": "code",
     "collapsed": false,
     "input": [
      "game_perfect = (\n",
      "    True,\n",
      "    [\n",
      "    ( 1, 1,   10,  30),\n",
      "    ( 2, 1,   10,  60),\n",
      "    ( 3, 1,   10,  90),\n",
      "    ( 4, 1,   10, 120),\n",
      "    ( 5, 1,   10, 150),\n",
      "    ( 6, 1,   10, 180),\n",
      "    ( 7, 1,   10, 210),\n",
      "    ( 8, 1,   10, 240),\n",
      "    ( 9, 1,   10, 270),\n",
      "    (10, 1,   10, 300),\n",
      "    (10, 2,   10, 300),\n",
      "    (10, 3,   10, 300),\n",
      "])"
     ],
     "language": "python",
     "metadata": {},
     "outputs": [],
     "prompt_number": 9
    },
    {
     "cell_type": "code",
     "collapsed": false,
     "input": [
      "game_gutter = (\n",
      "    False,\n",
      "    [\n",
      "    ( 1, 1,    0,   0),\n",
      "    ( 1, 2,    0,   0),\n",
      "    ( 2, 1,    0,   0),\n",
      "    ( 2, 2,    0,   0),\n",
      "    ( 3, 1,    0,   0),\n",
      "    ( 3, 2,    0,   0),\n",
      "    ( 4, 1,    0,   0),\n",
      "    ( 4, 2,    0,   0),\n",
      "    ( 5, 1,    0,   0),\n",
      "    ( 5, 2,    0,   0),\n",
      "    ( 6, 1,    0,   0),\n",
      "    ( 6, 2,    0,   0),\n",
      "    ( 7, 1,    0,   0),\n",
      "    ( 7, 2,    0,   0),\n",
      "    ( 8, 1,    0,   0),\n",
      "    ( 8, 2,    0,   0),\n",
      "    ( 9, 1,    0,   0),\n",
      "    ( 9, 2,    0,   0),\n",
      "    (10, 1,    0,   0),\n",
      "    (10, 2,    0,   0),\n",
      "])"
     ],
     "language": "python",
     "metadata": {},
     "outputs": [],
     "prompt_number": 10
    },
    {
     "cell_type": "code",
     "collapsed": false,
     "input": [
      "game_invalid_frame = (\n",
      "    False,\n",
      "    [\n",
      "    (1, 1, 8, None),\n",
      "    (1, 2, 8,   16),\n",
      "])"
     ],
     "language": "python",
     "metadata": {},
     "outputs": [],
     "prompt_number": 11
    },
    {
     "cell_type": "code",
     "collapsed": false,
     "input": [
      "game_invalid_pins_low = (\n",
      "    True,\n",
      "    [\n",
      "    (1, 1, -1, None)\n",
      "])\n",
      "\n",
      "game_invalid_pins_high = (\n",
      "    True,\n",
      "    [\n",
      "    (1, 1, 21, None),\n",
      "])"
     ],
     "language": "python",
     "metadata": {},
     "outputs": [],
     "prompt_number": 12
    },
    {
     "cell_type": "code",
     "collapsed": false,
     "input": [
      "game_partial_fail = (\n",
      "    False,\n",
      "    [\n",
      "    (1, 1, 1, None)\n",
      "])"
     ],
     "language": "python",
     "metadata": {},
     "outputs": [],
     "prompt_number": 13
    },
    {
     "cell_type": "code",
     "collapsed": false,
     "input": [
      "game_toomany_rolls = (\n",
      "    False,\n",
      "    [\n",
      "    ( 1, 1,    0,   0),\n",
      "    ( 1, 2,    0,   0),\n",
      "    ( 2, 1,    0,   0),\n",
      "    ( 2, 2,    0,   0),\n",
      "    ( 3, 1,    0,   0),\n",
      "    ( 3, 2,    0,   0),\n",
      "    ( 4, 1,    0,   0),\n",
      "    ( 4, 2,    0,   0),\n",
      "    ( 5, 1,    0,   0),\n",
      "    ( 5, 2,    0,   0),\n",
      "    ( 6, 1,    0,   0),\n",
      "    ( 6, 2,    0,   0),\n",
      "    ( 7, 1,    0,   0),\n",
      "    ( 7, 2,    0,   0),\n",
      "    ( 8, 1,    0,   0),\n",
      "    ( 8, 2,    0,   0),\n",
      "    ( 9, 1,    0,   0),\n",
      "    ( 9, 2,    0,   0),\n",
      "    (10, 1,    0,   0),\n",
      "    (10, 2,    0,   0),\n",
      "    (11, 1,    0,   0),\n",
      "    (11, 2,    0,   0),\n",
      "])"
     ],
     "language": "python",
     "metadata": {},
     "outputs": [],
     "prompt_number": 14
    },
    {
     "cell_type": "heading",
     "level": 3,
     "metadata": {},
     "source": [
      "Test methods"
     ]
    },
    {
     "cell_type": "code",
     "collapsed": false,
     "input": [
      "def check_game(expected):\n",
      "    game = BowlingGame()\n",
      "    partial = expected[0]\n",
      "    for (frame, roll, pins, score) in expected[1]:\n",
      "        game.roll(pins)\n",
      "    assert score == game.score(partial=partial), 'Expected score {} not actual game score {}.'.format(score, game.score(partial=partial))"
     ],
     "language": "python",
     "metadata": {},
     "outputs": [],
     "prompt_number": 15
    },
    {
     "cell_type": "code",
     "collapsed": false,
     "input": [
      "@nt.raises(RuntimeError)\n",
      "def error_game(expected):\n",
      "    game = BowlingGame()\n",
      "    partial = expected[0]\n",
      "    for (frame, roll, pins, score) in expected[1]:\n",
      "        game.roll(pins)\n",
      "    game.score(partial=partial)"
     ],
     "language": "python",
     "metadata": {},
     "outputs": [],
     "prompt_number": 16
    },
    {
     "cell_type": "code",
     "collapsed": false,
     "input": [
      "def test_cases():\n",
      "    for case in cases_success:\n",
      "        yield check_game, case"
     ],
     "language": "python",
     "metadata": {},
     "outputs": [],
     "prompt_number": 17
    },
    {
     "cell_type": "code",
     "collapsed": false,
     "input": [
      "def test_exceptions():\n",
      "    for case in cases_exceptions:\n",
      "        yield error_game, case"
     ],
     "language": "python",
     "metadata": {},
     "outputs": [],
     "prompt_number": 18
    },
    {
     "cell_type": "heading",
     "level": 3,
     "metadata": {},
     "source": [
      "Run the tests"
     ]
    },
    {
     "cell_type": "code",
     "collapsed": false,
     "input": [
      "cases_success = [\n",
      "    game_basic_frame,\n",
      "    game_basic_spare,\n",
      "    game_basic_strike,\n",
      "    game_gutter,\n",
      "    game_perfect,\n",
      "    game_typical\n",
      "]"
     ],
     "language": "python",
     "metadata": {},
     "outputs": [],
     "prompt_number": 19
    },
    {
     "cell_type": "code",
     "collapsed": false,
     "input": [
      "cases_exceptions = [\n",
      "    game_invalid_frame,\n",
      "    game_invalid_pins_low,\n",
      "    game_invalid_pins_high,\n",
      "    game_partial_fail,\n",
      "    game_toomany_rolls\n",
      "]"
     ],
     "language": "python",
     "metadata": {},
     "outputs": [],
     "prompt_number": 20
    },
    {
     "cell_type": "code",
     "collapsed": false,
     "input": [
      "%nose"
     ],
     "language": "python",
     "metadata": {},
     "outputs": [
      {
       "html": [
        "<div id=\"ipython_nose_e52190027eb94a62a88b973fd4096872\"></div>"
       ],
       "metadata": {},
       "output_type": "display_data"
      },
      {
       "javascript": [
        "document.ipython_nose_e52190027eb94a62a88b973fd4096872 = $(\"#ipython_nose_e52190027eb94a62a88b973fd4096872\");"
       ],
       "metadata": {},
       "output_type": "display_data"
      },
      {
       "javascript": [
        "document.ipython_nose_e52190027eb94a62a88b973fd4096872.append($(\"<span>.</span>\"));"
       ],
       "metadata": {},
       "output_type": "display_data"
      },
      {
       "javascript": [
        "document.ipython_nose_e52190027eb94a62a88b973fd4096872.append($(\"<span>.</span>\"));"
       ],
       "metadata": {},
       "output_type": "display_data"
      },
      {
       "javascript": [
        "document.ipython_nose_e52190027eb94a62a88b973fd4096872.append($(\"<span>.</span>\"));"
       ],
       "metadata": {},
       "output_type": "display_data"
      },
      {
       "javascript": [
        "document.ipython_nose_e52190027eb94a62a88b973fd4096872.append($(\"<span>.</span>\"));"
       ],
       "metadata": {},
       "output_type": "display_data"
      },
      {
       "javascript": [
        "document.ipython_nose_e52190027eb94a62a88b973fd4096872.append($(\"<span>.</span>\"));"
       ],
       "metadata": {},
       "output_type": "display_data"
      },
      {
       "javascript": [
        "document.ipython_nose_e52190027eb94a62a88b973fd4096872.append($(\"<span>.</span>\"));"
       ],
       "metadata": {},
       "output_type": "display_data"
      },
      {
       "javascript": [
        "document.ipython_nose_e52190027eb94a62a88b973fd4096872.append($(\"<span>.</span>\"));"
       ],
       "metadata": {},
       "output_type": "display_data"
      },
      {
       "javascript": [
        "document.ipython_nose_e52190027eb94a62a88b973fd4096872.append($(\"<span>.</span>\"));"
       ],
       "metadata": {},
       "output_type": "display_data"
      },
      {
       "javascript": [
        "document.ipython_nose_e52190027eb94a62a88b973fd4096872.append($(\"<span>.</span>\"));"
       ],
       "metadata": {},
       "output_type": "display_data"
      },
      {
       "javascript": [
        "document.ipython_nose_e52190027eb94a62a88b973fd4096872.append($(\"<span>.</span>\"));"
       ],
       "metadata": {},
       "output_type": "display_data"
      },
      {
       "javascript": [
        "document.ipython_nose_e52190027eb94a62a88b973fd4096872.append($(\"<span>.</span>\"));"
       ],
       "metadata": {},
       "output_type": "display_data"
      },
      {
       "javascript": [
        "delete document.ipython_nose_e52190027eb94a62a88b973fd4096872;"
       ],
       "metadata": {},
       "output_type": "display_data"
      },
      {
       "html": [
        "    <style type=\"text/css\">\n",
        "        span.nosefailedfunc {\n",
        "            font-family: monospace;\n",
        "            font-weight: bold;\n",
        "        }\n",
        "        div.noseresults {\n",
        "            width: 100%;\n",
        "        }\n",
        "        div.nosebar {\n",
        "            float: left;\n",
        "            padding: 1ex 0px 1ex 0px;\n",
        "        }\n",
        "        div.nosebar.fail {\n",
        "            background: #ff3019; /* Old browsers */\n",
        "            /* FF3.6+ */\n",
        "            background: -moz-linear-gradient(top, #ff3019 0%, #cf0404 100%);\n",
        "            /* Chrome,Safari4+ */\n",
        "            background: -webkit-gradient(linear, left top, left bottom,\n",
        "                                         color-stop(0%,#ff3019),\n",
        "                                         color-stop(100%,#cf0404));\n",
        "            /* Chrome10+,Safari5.1+ */\n",
        "            background: -webkit-linear-gradient(top, #ff3019 0%,#cf0404 100%);\n",
        "            /* Opera 11.10+ */\n",
        "            background: -o-linear-gradient(top, #ff3019 0%,#cf0404 100%);\n",
        "            /* IE10+ */\n",
        "            background: -ms-linear-gradient(top, #ff3019 0%,#cf0404 100%);\n",
        "            /* W3C */\n",
        "            background: linear-gradient(to bottom, #ff3019 0%,#cf0404 100%);\n",
        "        }\n",
        "        div.nosebar.pass {\n",
        "            background: #52b152;\n",
        "            background: -moz-linear-gradient(top, #52b152 1%, #008a00 100%);\n",
        "            background: -webkit-gradient(linear, left top, left bottom,\n",
        "                                         color-stop(1%,#52b152),\n",
        "                                         color-stop(100%,#008a00));\n",
        "            background: -webkit-linear-gradient(top, #52b152 1%,#008a00 100%);\n",
        "            background: -o-linear-gradient(top, #52b152 1%,#008a00 100%);\n",
        "            background: -ms-linear-gradient(top, #52b152 1%,#008a00 100%);\n",
        "            background: linear-gradient(to bottom, #52b152 1%,#008a00 100%);\n",
        "        }\n",
        "        div.nosebar.skip {\n",
        "            background: #f1e767;\n",
        "            background: -moz-linear-gradient(top, #f1e767 0%, #feb645 100%);\n",
        "            background: -webkit-gradient(linear, left top, left bottom,\n",
        "                                         color-stop(0%,#f1e767),\n",
        "                                         color-stop(100%,#feb645));\n",
        "            background: -webkit-linear-gradient(top, #f1e767 0%,#feb645 100%);\n",
        "            background: -o-linear-gradient(top, #f1e767 0%,#feb645 100%);\n",
        "            background: -ms-linear-gradient(top, #f1e767 0%,#feb645 100%);\n",
        "            background: linear-gradient(to bottom, #f1e767 0%,#feb645 100%);\n",
        "        }\n",
        "        div.nosebar.leftmost {\n",
        "            border-radius: 4px 0 0 4px;\n",
        "        }\n",
        "        div.nosebar.rightmost {\n",
        "            border-radius: 0 4px 4px 0;\n",
        "        }\n",
        "        div.nosefailbanner {\n",
        "            border-radius: 4px 0 0 4px;\n",
        "            border-left: 10px solid #cf0404;\n",
        "            padding: 0.5ex 0em 0.5ex 1em;\n",
        "            margin-top: 1ex;\n",
        "            margin-bottom: 0px;\n",
        "        }\n",
        "        div.nosefailbanner.expanded {\n",
        "            border-radius: 4px 4px 0 0;\n",
        "            border-top: 10px solid #cf0404;\n",
        "        }\n",
        "        pre.nosetraceback {\n",
        "            border-radius: 0 4px 4px 4px;\n",
        "            border-left: 10px solid #cf0404;\n",
        "            padding: 1em;\n",
        "            margin-left: 0px;\n",
        "            margin-top: 0px;\n",
        "            display: none;\n",
        "        }\n",
        "    </style>\n",
        "    \n",
        "    <script>\n",
        "        setTimeout(function () {\n",
        "            $('.nosefailtoggle').bind(\n",
        "                'click',\n",
        "                function () {\n",
        "                    $(\n",
        "                        $(this)\n",
        "                            .parent().toggleClass('expanded')\n",
        "                            .parent()\n",
        "                            .children()\n",
        "                            .filter('.nosetraceback')\n",
        "                    ).toggle();\n",
        "                }\n",
        "            );},\n",
        "            0);\n",
        "    </script>\n",
        "    \n",
        "    <div class=\"noseresults\">\n",
        "      <div class=\"nosebar fail leftmost\" style=\"width: 0%\">\n",
        "          &nbsp;\n",
        "      </div>\n",
        "      <div class=\"nosebar skip\" style=\"width: 0%\">\n",
        "          &nbsp;\n",
        "      </div>\n",
        "      <div class=\"nosebar pass rightmost\" style=\"width: 100%\">\n",
        "          &nbsp;\n",
        "      </div>\n",
        "      11/11 tests passed\n",
        "    </div>\n",
        "    "
       ],
       "metadata": {},
       "output_type": "pyout",
       "prompt_number": 21,
       "text": [
        "11/11 tests passed\n"
       ]
      }
     ],
     "prompt_number": 21
    },
    {
     "cell_type": "code",
     "collapsed": false,
     "input": [],
     "language": "python",
     "metadata": {},
     "outputs": [],
     "prompt_number": 21
    }
   ],
   "metadata": {}
  }
 ]
}