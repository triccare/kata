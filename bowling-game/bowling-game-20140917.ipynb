{
 "metadata": {
  "name": "",
  "signature": "sha256:584b1c693c9b5054b6dae467c403db81dee8d8dd6950dc7bdb7b4214a44ddd5e"
 },
 "nbformat": 3,
 "nbformat_minor": 0,
 "worksheets": [
  {
   "cells": [
    {
     "cell_type": "heading",
     "level": 2,
     "metadata": {},
     "source": [
      "Abstract"
     ]
    },
    {
     "cell_type": "heading",
     "level": 3,
     "metadata": {},
     "source": [
      "Instructions"
     ]
    },
    {
     "cell_type": "markdown",
     "metadata": {},
     "source": [
      "Copy the basic notebook to a notebook with a date indicator. Perform the kata in this new notebook."
     ]
    },
    {
     "cell_type": "heading",
     "level": 3,
     "metadata": {},
     "source": [
      "Scenario"
     ]
    },
    {
     "cell_type": "markdown",
     "metadata": {},
     "source": [
      "#### Count and sum the scores of a bowling game of one player.\n",
      "\n",
      "A bowling game consists of 10 frames in which the player tries to knock down the 10 pins. In every frame the player can throw one or two times. The actual number depends on strikes and spares. The score of a frame is the number of knocked down pins plus bonuses for strikes and spares. After every frame the 10 pins are resettet.\n",
      "\n",
      "#### Strikes\n",
      "\n",
      "The player has a strike of he knocks down all 10 pins with the first roll in a frame. The frame ends immediately (since there are no pins left for a second roll). The bonus for that frame is the number of pins knocked down by the next two rolls. That is the next frame, except if the player rolls a strike again.\n",
      "\n",
      "#### Spares\n",
      "\n",
      "The player has a spare if the knocks down all 10 pins with the two roles of a frame. The bonus for that frame is the number of pins knocked down by the next roll (first role of next frame).\n",
      "\n",
      "#### 10th frame\n",
      "\n",
      "If the player rolls a strike or spare in the 10th frame he can roll the additional balls for the bonus. But he can never roll more than 3 balls in the 10th frame. The additional rolls only count for the bonus not for the regular frame count.\n",
      "\n",
      "* 10, 10, 10 in the 10th frame gives 30 points (10 points for the regular first strike and 20 points for the bonus)\n",
      "* 1, 9, 10 in the 10th frame gives 20 points (10 points for the regular spare and 10 points for the bonus)\n",
      "\n",
      "#### Gutter Game\n",
      "\n",
      "A Gutter Game is when the player never hits a pin (20 zero scores).\n",
      "\n",
      "#### Perfect Game\n",
      "\n",
      "A Perfect Game is when the player rolls 12 strikes (10 regular strikes and 2 strikes for the bonus in the 10th frame). The Perfect Game scores to 300 points."
     ]
    },
    {
     "cell_type": "heading",
     "level": 3,
     "metadata": {},
     "source": [
      "Task"
     ]
    },
    {
     "cell_type": "markdown",
     "metadata": {},
     "source": [
      "Write a class BowlingGame with two methods\n",
      "+ roll(pins : int)\n",
      "+ score() : int\n",
      "\n",
      "For every roll the roll method is called. The score method returns the total score."
     ]
    },
    {
     "cell_type": "heading",
     "level": 2,
     "metadata": {},
     "source": [
      "Environment"
     ]
    },
    {
     "cell_type": "code",
     "collapsed": false,
     "input": [
      "%load_ext ipython_nose\n",
      "\n",
      "import nose.tools as nt"
     ],
     "language": "python",
     "metadata": {},
     "outputs": [],
     "prompt_number": 1
    },
    {
     "cell_type": "heading",
     "level": 2,
     "metadata": {},
     "source": [
      "Library"
     ]
    },
    {
     "cell_type": "code",
     "collapsed": false,
     "input": [
      "class BowlingGame(object):\n",
      "    '''A bowling game\n",
      "    \n",
      "    Attributes\n",
      "    ----------\n",
      "    \n",
      "    current_frame: int\n",
      "                   The current frame.\n",
      "           \n",
      "    current_roll: int\n",
      "                  The current roll in frame.\n",
      "          \n",
      "    current_score: int\n",
      "           The score as of the frame and roll.\n",
      "    \n",
      "    Methods\n",
      "    -------\n",
      "    roll(pins)\n",
      "        Peform a roll which results in the specified\n",
      "        pins down.\n",
      "        \n",
      "    score: int\n",
      "        Return a 3-tuple consisting of:\n",
      "        frame: the current frame.\n",
      "        roll: the current roll\n",
      "        score: the current score.\n",
      "    '''\n",
      "    \n",
      "    def __init__(self):\n",
      "        self.current_frame = 0\n",
      "        self.current_roll = 0\n",
      "        self.current_score = 0\n",
      "        self.bonus = 0\n",
      "        \n",
      "        self._mark_count = 0\n",
      "        self._first_roll = 0\n",
      "    \n",
      "    def roll(self, pins):\n",
      "        '''Perform a roll which results in the pins downed.\n",
      "        \n",
      "        Parameters\n",
      "        ----------\n",
      "        pins: int\n",
      "              The pins down.\n",
      "        '''\n",
      "        \n",
      "        # Check for validity of the roll.\n",
      "        if pins < 0 or pins > 10:\n",
      "            raise RuntimeError('Invalid roll. Pins {} not in [0,10]'.format(pins))\n",
      "            \n",
      "        if self.current_frame is None:\n",
      "            raise RuntimeError('Game is over. Cannot do any more rolls.')\n",
      "            \n",
      "        # If we're working a mark, add this roll to the score.\n",
      "        if self._mark_count > 0:\n",
      "            self.current_score += pins\n",
      "            self._mark_count -= 1\n",
      "\n",
      "        self.current_roll += 1\n",
      "        \n",
      "        # New Frame.\n",
      "        if (self.current_roll > 2 and self.current_frame < 10) or self.current_frame == 0:\n",
      "        \n",
      "            # We're not at the last frame.\n",
      "            if self.current_frame < 10:\n",
      "                self.current_frame += 1\n",
      "                self.current_roll = 1\n",
      "\n",
      "        if self.current_roll == 1:\n",
      "            self.current_score += pins\n",
      "            self._first_roll = pins\n",
      "            \n",
      "            # A strike.\n",
      "            if pins == 10:\n",
      "                self._mark_count = 2\n",
      "                self.current_roll = 2\n",
      "        \n",
      "        elif self.current_roll == 2:\n",
      "            frame_score = self._first_roll + pins\n",
      "            if frame_score < 0 or frame_score > 10:\n",
      "                raise RuntimeError('Invalid second roll. Total pin count {} for frame doesn\\'t add up.'.format(frame_score))\n",
      "            self.current_score += pins\n",
      "            \n",
      "            # A spare\n",
      "            if frame_score == 10:\n",
      "                self._mark_count = 1\n",
      "                \n",
      "        # End of game.\n",
      "        if self.current_roll == 3 and self.current_frame == 10:\n",
      "            self.current_frame = None\n",
      "            self.current_roll = None\n",
      "            \n",
      "    def score(self):\n",
      "        '''Return the current state of the game.\n",
      "        \n",
      "        Returns\n",
      "        -------\n",
      "        (frame, roll, score): (int, int, int)\n",
      "        Returns a 3-tuple with the following\n",
      "        frame: Current frame. If 0, the game has not started.\n",
      "               If None, the game is over.\n",
      "        roll: The current roll in the frame. If 0, the\n",
      "              game has not started. If None, the game is\n",
      "              over.\n",
      "        score: Current score.\n",
      "            \n",
      "        '''\n",
      "        # Since roll has been munged to account for a strike,\n",
      "        # return a modified roll\n",
      "        current_roll = self.current_roll\n",
      "        if self._first_roll == 10 and self.current_frame < 10:\n",
      "            current_roll -= 1\n",
      "        return (self.current_frame, current_roll, self.current_score)"
     ],
     "language": "python",
     "metadata": {},
     "outputs": [],
     "prompt_number": 2
    },
    {
     "cell_type": "heading",
     "level": 2,
     "metadata": {},
     "source": [
      "Main"
     ]
    },
    {
     "cell_type": "heading",
     "level": 3,
     "metadata": {},
     "source": [
      "Test cases"
     ]
    },
    {
     "cell_type": "code",
     "collapsed": false,
     "input": [
      "game_basic_frame = [\n",
      "    ( 1, 1,   1,    1),\n",
      "    ( 1, 2,   4,    5)\n",
      "]"
     ],
     "language": "python",
     "metadata": {},
     "outputs": [],
     "prompt_number": 3
    },
    {
     "cell_type": "code",
     "collapsed": false,
     "input": [
      "game_basic_spare = [\n",
      "    ( 1, 1,   5,    5),\n",
      "    ( 1, 2,   5,   10),\n",
      "    ( 2, 1,   3,   16),\n",
      "    ( 2, 2,   3,   19),\n",
      "]"
     ],
     "language": "python",
     "metadata": {},
     "outputs": [],
     "prompt_number": 4
    },
    {
     "cell_type": "code",
     "collapsed": false,
     "input": [
      "game_basic_strike = [\n",
      "    ( 1, 1,   10,  10),\n",
      "    ( 2, 1,    3,  16),\n",
      "    ( 2, 2,    3,  22),\n",
      "]"
     ],
     "language": "python",
     "metadata": {},
     "outputs": [],
     "prompt_number": 5
    },
    {
     "cell_type": "code",
     "collapsed": false,
     "input": [
      "game_typical = [\n",
      "    ( 1, 1,    1,   0),\n",
      "    ( 1, 2,    4,   5),\n",
      "    ( 2, 1,    4,   5),\n",
      "    ( 2, 2,    5,  14),\n",
      "    ( 3, 1,    6,  14),\n",
      "    ( 3, 2,    4,  29),\n",
      "    ( 4, 1,    5,  29),\n",
      "    ( 4, 2,    5,  49),\n",
      "    ( 5, 1,   10,  49),\n",
      "    ( 5, 2, None,  60),\n",
      "    ( 6, 1,    0,  60),\n",
      "    ( 6, 2,    1,  61),\n",
      "    ( 7, 1,    7,  61),\n",
      "    ( 7, 2,    3,  77),\n",
      "    ( 8, 1,    6,  77),\n",
      "    ( 8, 2,    4,  97),\n",
      "    ( 9, 1,   10,  97),\n",
      "    ( 9, 2, None, 117),\n",
      "    (10, 1,    2, 117),\n",
      "    (10, 2,    8, 117),\n",
      "    (10, 3,    6, 133)\n",
      "]"
     ],
     "language": "python",
     "metadata": {},
     "outputs": [],
     "prompt_number": 6
    },
    {
     "cell_type": "code",
     "collapsed": false,
     "input": [
      "game_perfect = [\n",
      "    ( 1, 1,   10,   0),\n",
      "    ( 2, 1,   10,  30),\n",
      "    ( 3, 1,   10,  60),\n",
      "    ( 4, 1,   10,  90),\n",
      "    ( 5, 1,   10, 120),\n",
      "    ( 6, 1,   10, 150),\n",
      "    ( 7, 1,   10, 180),\n",
      "    ( 8, 1,   10, 210),\n",
      "    ( 9, 1,   10, 240),\n",
      "    (10, 1,   10, 270),\n",
      "    (10, 2,   10, 300),\n",
      "    (10, 3,   10, 300),\n",
      "]"
     ],
     "language": "python",
     "metadata": {},
     "outputs": [],
     "prompt_number": 21
    },
    {
     "cell_type": "code",
     "collapsed": false,
     "input": [
      "game_gutter = [\n",
      "    ( 1, 1,    0,   0),\n",
      "    ( 1, 2,    0,   0),\n",
      "    ( 2, 1,    0,   0),\n",
      "    ( 2, 2,    0,   0),\n",
      "    ( 3, 1,    0,   0),\n",
      "    ( 3, 2,    0,   0),\n",
      "    ( 4, 1,    0,   0),\n",
      "    ( 4, 2,    0,   0),\n",
      "    ( 5, 1,    0,   0),\n",
      "    ( 5, 2,    0,   0),\n",
      "    ( 6, 1,    0,   0),\n",
      "    ( 6, 2,    0,   0),\n",
      "    ( 7, 1,    0,   0),\n",
      "    ( 7, 2,    0,   0),\n",
      "    ( 8, 1,    0,   0),\n",
      "    ( 8, 2,    0,   0),\n",
      "    ( 9, 1,    0,   0),\n",
      "    ( 9, 2,    0,   0),\n",
      "    (10, 1,    0,   0),\n",
      "    (10, 2,    0,   0),\n",
      "]"
     ],
     "language": "python",
     "metadata": {},
     "outputs": [],
     "prompt_number": 22
    },
    {
     "cell_type": "code",
     "collapsed": false,
     "input": [
      "game = BowlingGame()\n",
      "for (frame, roll, pins, score) in game_perfect:\n",
      "    print 'Frame {} Roll {} Pins {} Score {}'.format(frame, roll, pins, score)\n",
      "    game.roll(pins)\n",
      "    (current_frame, current_roll, current_score) = game.score()\n",
      "    print 'Game frame {} Game roll {} Game score {}'.format(current_frame, current_roll, current_score)\n",
      "    "
     ],
     "language": "python",
     "metadata": {},
     "outputs": [
      {
       "output_type": "stream",
       "stream": "stdout",
       "text": [
        "Frame 1 Roll 1 Pins 10 Score 0\n",
        "Game frame 1 Game roll 1 Game score 10\n",
        "Frame 2 Roll 1 Pins 10 Score 30\n",
        "Game frame 2 Game roll 1 Game score 30\n",
        "Frame 3 Roll 1 Pins 10 Score 60\n",
        "Game frame 3 Game roll 1 Game score 50\n",
        "Frame 4 Roll 1 Pins 10 Score 90\n",
        "Game frame 4 Game roll 1 Game score 70\n",
        "Frame 5 Roll 1 Pins 10 Score 120\n",
        "Game frame 5 Game roll 1 Game score 90\n",
        "Frame 6 Roll 1 Pins 10 Score 150\n",
        "Game frame 6 Game roll 1 Game score 110\n",
        "Frame 7 Roll 1 Pins 10 Score 180\n",
        "Game frame 7 Game roll 1 Game score 130\n",
        "Frame 8 Roll 1 Pins 10 Score 210\n",
        "Game frame 8 Game roll 1 Game score 150\n",
        "Frame 9 Roll 1 Pins 10 Score 240\n",
        "Game frame 9 Game roll 1 Game score 170\n",
        "Frame 10 Roll 1 Pins 10 Score 270\n",
        "Game frame 10 Game roll 2 Game score 190\n",
        "Frame 10 Roll 2 Pins 10 Score 300\n"
       ]
      },
      {
       "ename": "TypeError",
       "evalue": "unsupported operand type(s) for -=: 'NoneType' and 'int'",
       "output_type": "pyerr",
       "traceback": [
        "\u001b[0;31m---------------------------------------------------------------------------\u001b[0m\n\u001b[0;31mTypeError\u001b[0m                                 Traceback (most recent call last)",
        "\u001b[0;32m<ipython-input-23-c2e396868479>\u001b[0m in \u001b[0;36m<module>\u001b[0;34m()\u001b[0m\n\u001b[1;32m      3\u001b[0m     \u001b[0;32mprint\u001b[0m \u001b[0;34m'Frame {} Roll {} Pins {} Score {}'\u001b[0m\u001b[0;34m.\u001b[0m\u001b[0mformat\u001b[0m\u001b[0;34m(\u001b[0m\u001b[0mframe\u001b[0m\u001b[0;34m,\u001b[0m \u001b[0mroll\u001b[0m\u001b[0;34m,\u001b[0m \u001b[0mpins\u001b[0m\u001b[0;34m,\u001b[0m \u001b[0mscore\u001b[0m\u001b[0;34m)\u001b[0m\u001b[0;34m\u001b[0m\u001b[0m\n\u001b[1;32m      4\u001b[0m     \u001b[0mgame\u001b[0m\u001b[0;34m.\u001b[0m\u001b[0mroll\u001b[0m\u001b[0;34m(\u001b[0m\u001b[0mpins\u001b[0m\u001b[0;34m)\u001b[0m\u001b[0;34m\u001b[0m\u001b[0m\n\u001b[0;32m----> 5\u001b[0;31m     \u001b[0;34m(\u001b[0m\u001b[0mcurrent_frame\u001b[0m\u001b[0;34m,\u001b[0m \u001b[0mcurrent_roll\u001b[0m\u001b[0;34m,\u001b[0m \u001b[0mcurrent_score\u001b[0m\u001b[0;34m)\u001b[0m \u001b[0;34m=\u001b[0m \u001b[0mgame\u001b[0m\u001b[0;34m.\u001b[0m\u001b[0mscore\u001b[0m\u001b[0;34m(\u001b[0m\u001b[0;34m)\u001b[0m\u001b[0;34m\u001b[0m\u001b[0m\n\u001b[0m\u001b[1;32m      6\u001b[0m     \u001b[0;32mprint\u001b[0m \u001b[0;34m'Game frame {} Game roll {} Game score {}'\u001b[0m\u001b[0;34m.\u001b[0m\u001b[0mformat\u001b[0m\u001b[0;34m(\u001b[0m\u001b[0mcurrent_frame\u001b[0m\u001b[0;34m,\u001b[0m \u001b[0mcurrent_roll\u001b[0m\u001b[0;34m,\u001b[0m \u001b[0mcurrent_score\u001b[0m\u001b[0;34m)\u001b[0m\u001b[0;34m\u001b[0m\u001b[0m\n\u001b[1;32m      7\u001b[0m \u001b[0;34m\u001b[0m\u001b[0m\n",
        "\u001b[0;32m<ipython-input-2-f584e12653ef>\u001b[0m in \u001b[0;36mscore\u001b[0;34m(self)\u001b[0m\n\u001b[1;32m    110\u001b[0m         \u001b[0mcurrent_roll\u001b[0m \u001b[0;34m=\u001b[0m \u001b[0mself\u001b[0m\u001b[0;34m.\u001b[0m\u001b[0mcurrent_roll\u001b[0m\u001b[0;34m\u001b[0m\u001b[0m\n\u001b[1;32m    111\u001b[0m         \u001b[0;32mif\u001b[0m \u001b[0mself\u001b[0m\u001b[0;34m.\u001b[0m\u001b[0m_first_roll\u001b[0m \u001b[0;34m==\u001b[0m \u001b[0;36m10\u001b[0m \u001b[0;32mand\u001b[0m \u001b[0mself\u001b[0m\u001b[0;34m.\u001b[0m\u001b[0mcurrent_frame\u001b[0m \u001b[0;34m<\u001b[0m \u001b[0;36m10\u001b[0m\u001b[0;34m:\u001b[0m\u001b[0;34m\u001b[0m\u001b[0m\n\u001b[0;32m--> 112\u001b[0;31m             \u001b[0mcurrent_roll\u001b[0m \u001b[0;34m-=\u001b[0m \u001b[0;36m1\u001b[0m\u001b[0;34m\u001b[0m\u001b[0m\n\u001b[0m\u001b[1;32m    113\u001b[0m         \u001b[0;32mreturn\u001b[0m \u001b[0;34m(\u001b[0m\u001b[0mself\u001b[0m\u001b[0;34m.\u001b[0m\u001b[0mcurrent_frame\u001b[0m\u001b[0;34m,\u001b[0m \u001b[0mcurrent_roll\u001b[0m\u001b[0;34m,\u001b[0m \u001b[0mself\u001b[0m\u001b[0;34m.\u001b[0m\u001b[0mcurrent_score\u001b[0m\u001b[0;34m)\u001b[0m\u001b[0;34m\u001b[0m\u001b[0m\n",
        "\u001b[0;31mTypeError\u001b[0m: unsupported operand type(s) for -=: 'NoneType' and 'int'"
       ]
      }
     ],
     "prompt_number": 23
    },
    {
     "cell_type": "heading",
     "level": 3,
     "metadata": {},
     "source": [
      "Test methods"
     ]
    },
    {
     "cell_type": "heading",
     "level": 4,
     "metadata": {},
     "source": [
      "Average game"
     ]
    },
    {
     "cell_type": "code",
     "collapsed": false,
     "input": [
      "def check(v, msg):\n",
      "    assert v, msg"
     ],
     "language": "python",
     "metadata": {},
     "outputs": [],
     "prompt_number": 10
    },
    {
     "cell_type": "code",
     "collapsed": false,
     "input": [
      "def check_game(expected):\n",
      "    game = BowlingGame()\n",
      "    for (expected_frame, expected_roll, pins, expected_score) in expected:\n",
      "        game.roll(pins)\n",
      "        (frame, roll, score) = game.score()\n",
      "        assert expected_frame == frame, \\\n",
      "            'Expected frame {} not equal to game frame {}.'.format(expected_frame, frame)\n",
      "        assert expected_roll == roll, \\\n",
      "            'Expected roll {} not equal to game roll {}.'.format(expected_roll, roll)\n",
      "        assert expected_score == score, \\\n",
      "            'Expected score {} not equal to game score {}.'.format(expected_score, score)"
     ],
     "language": "python",
     "metadata": {},
     "outputs": [],
     "prompt_number": 11
    },
    {
     "cell_type": "code",
     "collapsed": false,
     "input": [
      "def test_cases():\n",
      "    for case in cases:\n",
      "        yield check_game, case"
     ],
     "language": "python",
     "metadata": {},
     "outputs": [],
     "prompt_number": 12
    },
    {
     "cell_type": "heading",
     "level": 3,
     "metadata": {},
     "source": [
      "Run the tests"
     ]
    },
    {
     "cell_type": "code",
     "collapsed": false,
     "input": [
      "cases = [\n",
      "    game_basic_frame,\n",
      "    game_basic_spare,\n",
      "    game_basic_strike,\n",
      "    game_gutter,\n",
      "    game_perfect,\n",
      "]"
     ],
     "language": "python",
     "metadata": {},
     "outputs": [],
     "prompt_number": 17
    },
    {
     "cell_type": "code",
     "collapsed": false,
     "input": [
      "%nose"
     ],
     "language": "python",
     "metadata": {},
     "outputs": [
      {
       "html": [
        "<div id=\"ipython_nose_fd8fdc2cbd254b86b56b9f74a93a9dee\"></div>"
       ],
       "metadata": {},
       "output_type": "display_data"
      },
      {
       "javascript": [
        "document.ipython_nose_fd8fdc2cbd254b86b56b9f74a93a9dee = $(\"#ipython_nose_fd8fdc2cbd254b86b56b9f74a93a9dee\");"
       ],
       "metadata": {},
       "output_type": "display_data"
      },
      {
       "javascript": [
        "document.ipython_nose_fd8fdc2cbd254b86b56b9f74a93a9dee.append($(\"<span>.</span>\"));"
       ],
       "metadata": {},
       "output_type": "display_data"
      },
      {
       "javascript": [
        "document.ipython_nose_fd8fdc2cbd254b86b56b9f74a93a9dee.append($(\"<span>.</span>\"));"
       ],
       "metadata": {},
       "output_type": "display_data"
      },
      {
       "javascript": [
        "document.ipython_nose_fd8fdc2cbd254b86b56b9f74a93a9dee.append($(\"<span>.</span>\"));"
       ],
       "metadata": {},
       "output_type": "display_data"
      },
      {
       "javascript": [
        "document.ipython_nose_fd8fdc2cbd254b86b56b9f74a93a9dee.append($(\"<span>.</span>\"));"
       ],
       "metadata": {},
       "output_type": "display_data"
      },
      {
       "javascript": [
        "document.ipython_nose_fd8fdc2cbd254b86b56b9f74a93a9dee.append($(\"<span>F</span>\"));"
       ],
       "metadata": {},
       "output_type": "display_data"
      },
      {
       "javascript": [
        "delete document.ipython_nose_fd8fdc2cbd254b86b56b9f74a93a9dee;"
       ],
       "metadata": {},
       "output_type": "display_data"
      },
      {
       "html": [
        "    <style type=\"text/css\">\n",
        "        span.nosefailedfunc {\n",
        "            font-family: monospace;\n",
        "            font-weight: bold;\n",
        "        }\n",
        "        div.noseresults {\n",
        "            width: 100%;\n",
        "        }\n",
        "        div.nosebar {\n",
        "            float: left;\n",
        "            padding: 1ex 0px 1ex 0px;\n",
        "        }\n",
        "        div.nosebar.fail {\n",
        "            background: #ff3019; /* Old browsers */\n",
        "            /* FF3.6+ */\n",
        "            background: -moz-linear-gradient(top, #ff3019 0%, #cf0404 100%);\n",
        "            /* Chrome,Safari4+ */\n",
        "            background: -webkit-gradient(linear, left top, left bottom,\n",
        "                                         color-stop(0%,#ff3019),\n",
        "                                         color-stop(100%,#cf0404));\n",
        "            /* Chrome10+,Safari5.1+ */\n",
        "            background: -webkit-linear-gradient(top, #ff3019 0%,#cf0404 100%);\n",
        "            /* Opera 11.10+ */\n",
        "            background: -o-linear-gradient(top, #ff3019 0%,#cf0404 100%);\n",
        "            /* IE10+ */\n",
        "            background: -ms-linear-gradient(top, #ff3019 0%,#cf0404 100%);\n",
        "            /* W3C */\n",
        "            background: linear-gradient(to bottom, #ff3019 0%,#cf0404 100%);\n",
        "        }\n",
        "        div.nosebar.pass {\n",
        "            background: #52b152;\n",
        "            background: -moz-linear-gradient(top, #52b152 1%, #008a00 100%);\n",
        "            background: -webkit-gradient(linear, left top, left bottom,\n",
        "                                         color-stop(1%,#52b152),\n",
        "                                         color-stop(100%,#008a00));\n",
        "            background: -webkit-linear-gradient(top, #52b152 1%,#008a00 100%);\n",
        "            background: -o-linear-gradient(top, #52b152 1%,#008a00 100%);\n",
        "            background: -ms-linear-gradient(top, #52b152 1%,#008a00 100%);\n",
        "            background: linear-gradient(to bottom, #52b152 1%,#008a00 100%);\n",
        "        }\n",
        "        div.nosebar.skip {\n",
        "            background: #f1e767;\n",
        "            background: -moz-linear-gradient(top, #f1e767 0%, #feb645 100%);\n",
        "            background: -webkit-gradient(linear, left top, left bottom,\n",
        "                                         color-stop(0%,#f1e767),\n",
        "                                         color-stop(100%,#feb645));\n",
        "            background: -webkit-linear-gradient(top, #f1e767 0%,#feb645 100%);\n",
        "            background: -o-linear-gradient(top, #f1e767 0%,#feb645 100%);\n",
        "            background: -ms-linear-gradient(top, #f1e767 0%,#feb645 100%);\n",
        "            background: linear-gradient(to bottom, #f1e767 0%,#feb645 100%);\n",
        "        }\n",
        "        div.nosebar.leftmost {\n",
        "            border-radius: 4px 0 0 4px;\n",
        "        }\n",
        "        div.nosebar.rightmost {\n",
        "            border-radius: 0 4px 4px 0;\n",
        "        }\n",
        "        div.nosefailbanner {\n",
        "            border-radius: 4px 0 0 4px;\n",
        "            border-left: 10px solid #cf0404;\n",
        "            padding: 0.5ex 0em 0.5ex 1em;\n",
        "            margin-top: 1ex;\n",
        "            margin-bottom: 0px;\n",
        "        }\n",
        "        div.nosefailbanner.expanded {\n",
        "            border-radius: 4px 4px 0 0;\n",
        "            border-top: 10px solid #cf0404;\n",
        "        }\n",
        "        pre.nosetraceback {\n",
        "            border-radius: 0 4px 4px 4px;\n",
        "            border-left: 10px solid #cf0404;\n",
        "            padding: 1em;\n",
        "            margin-left: 0px;\n",
        "            margin-top: 0px;\n",
        "            display: none;\n",
        "        }\n",
        "    </style>\n",
        "    \n",
        "    <script>\n",
        "        setTimeout(function () {\n",
        "            $('.nosefailtoggle').bind(\n",
        "                'click',\n",
        "                function () {\n",
        "                    $(\n",
        "                        $(this)\n",
        "                            .parent().toggleClass('expanded')\n",
        "                            .parent()\n",
        "                            .children()\n",
        "                            .filter('.nosetraceback')\n",
        "                    ).toggle();\n",
        "                }\n",
        "            );},\n",
        "            0);\n",
        "    </script>\n",
        "    \n",
        "    <div class=\"noseresults\">\n",
        "      <div class=\"nosebar fail leftmost\" style=\"width: 20%\">\n",
        "          &nbsp;\n",
        "      </div>\n",
        "      <div class=\"nosebar skip\" style=\"width: 0%\">\n",
        "          &nbsp;\n",
        "      </div>\n",
        "      <div class=\"nosebar pass rightmost\" style=\"width: 80%\">\n",
        "          &nbsp;\n",
        "      </div>\n",
        "      4/5 tests passed; 1 failed\n",
        "    </div>\n",
        "    \n",
        "    <div class=\"nosefailure\">\n",
        "        <div class=\"nosefailbanner\">\n",
        "          failed: <span class=\"nosefailedfunc\">__main__.test_cases([(1, 1, 10, 0), (1, 2, None, 30), (2, 1, 10, 30), (2, 2, None, 60), (3, 1, 10, 60), (3, 2, None, 90), (4, 1, 10, 90), (4, 2, None, 120), (5, 1, 10, 120), (5, 2, None, 150), (6, 1, 10, 150), (6, 2, None, 180), (7, 1, 10, 180), (7, 2, None, 210), (8, 1, 10, 210), (8, 2, None, 240), (9, 1, 10, 240), (9, 2, None, 270), (10, 1, 10, 270), (10, 2, None, 300), (10, 3, 10, 300), (10, 4, None, 300)],)</span>\n",
        "            [<a class=\"nosefailtoggle\" href=\"#\">toggle traceback</a>]\n",
        "        </div>\n",
        "        <pre class=\"nosetraceback\">Traceback (most recent call last):\n",
        "  File \"/Users/eisenham/homebrew/Cellar/python/2.7.8/Frameworks/Python.framework/Versions/2.7/lib/python2.7/unittest/case.py\", line 329, in run\n",
        "    testMethod()\n",
        "  File \"/Users/eisenham/.virtualenvs/base/lib/python2.7/site-packages/nose/case.py\", line 197, in runTest\n",
        "    self.test(*self.arg)\n",
        "  File \"&lt;<a href=\"#ipython-input-11-dd176d2144e2\">ipython-input-11-dd176d2144e2</a><script>\n",
        "            $(\"div.prompt.input_prompt:contains([11])\")\n",
        "                .attr(\"id\", \"ipython-input-11-dd176d2144e2\");\n",
        "            </script>&gt;\", line 8, in check_game\n",
        "    assert expected_score == score,             'Expected score {} not equal to game score {}.'.format(expected_score, score)\n",
        "AssertionError: Expected score 0 not equal to game score 10.\n",
        "</pre>\n",
        "    </div>\n",
        "    "
       ],
       "metadata": {},
       "output_type": "pyout",
       "prompt_number": 18,
       "text": [
        "4/5 tests passed; 1 failed\n",
        "========\n",
        "__main__.test_cases([(1, 1, 10, 0), (1, 2, None, 30), (2, 1, 10, 30), (2, 2, None, 60), (3, 1, 10, 60), (3, 2, None, 90), (4, 1, 10, 90), (4, 2, None, 120), (5, 1, 10, 120), (5, 2, None, 150), (6, 1, 10, 150), (6, 2, None, 180), (7, 1, 10, 180), (7, 2, None, 210), (8, 1, 10, 210), (8, 2, None, 240), (9, 1, 10, 240), (9, 2, None, 270), (10, 1, 10, 270), (10, 2, None, 300), (10, 3, 10, 300), (10, 4, None, 300)],)\n",
        "========\n",
        "Traceback (most recent call last):\n",
        "  File \"/Users/eisenham/homebrew/Cellar/python/2.7.8/Frameworks/Python.framework/Versions/2.7/lib/python2.7/unittest/case.py\", line 329, in run\n",
        "    testMethod()\n",
        "  File \"/Users/eisenham/.virtualenvs/base/lib/python2.7/site-packages/nose/case.py\", line 197, in runTest\n",
        "    self.test(*self.arg)\n",
        "  File \"<ipython-input-11-dd176d2144e2>\", line 8, in check_game\n",
        "    assert expected_score == score,             'Expected score {} not equal to game score {}.'.format(expected_score, score)\n",
        "AssertionError: Expected score 0 not equal to game score 10.\n",
        "\n"
       ]
      }
     ],
     "prompt_number": 18
    },
    {
     "cell_type": "code",
     "collapsed": false,
     "input": [],
     "language": "python",
     "metadata": {},
     "outputs": [],
     "prompt_number": 14
    }
   ],
   "metadata": {}
  }
 ]
}