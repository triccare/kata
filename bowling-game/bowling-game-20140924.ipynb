{
 "metadata": {
  "name": "",
  "signature": "sha256:b0ac81eccc63f67ed7cdccf649d10494b7ad1f4c0444063ef0f0e0bd2ee69b86"
 },
 "nbformat": 3,
 "nbformat_minor": 0,
 "worksheets": [
  {
   "cells": [
    {
     "cell_type": "heading",
     "level": 2,
     "metadata": {},
     "source": [
      "Abstract"
     ]
    },
    {
     "cell_type": "heading",
     "level": 3,
     "metadata": {},
     "source": [
      "Instructions"
     ]
    },
    {
     "cell_type": "markdown",
     "metadata": {},
     "source": [
      "Copy the basic notebook to a notebook with a date indicator. Perform the kata in this new notebook."
     ]
    },
    {
     "cell_type": "heading",
     "level": 3,
     "metadata": {},
     "source": [
      "Scenario"
     ]
    },
    {
     "cell_type": "markdown",
     "metadata": {},
     "source": [
      "#### Count and sum the scores of a bowling game of one player.\n",
      "\n",
      "A bowling game consists of 10 frames in which the player tries to knock down the 10 pins. In every frame the player can throw one or two times. The actual number depends on strikes and spares. The score of a frame is the number of knocked down pins plus bonuses for strikes and spares. After every frame the 10 pins are resettet.\n",
      "\n",
      "#### Strikes\n",
      "\n",
      "The player has a strike of he knocks down all 10 pins with the first roll in a frame. The frame ends immediately (since there are no pins left for a second roll). The bonus for that frame is the number of pins knocked down by the next two rolls. That is the next frame, except if the player rolls a strike again.\n",
      "\n",
      "#### Spares\n",
      "\n",
      "The player has a spare if the knocks down all 10 pins with the two roles of a frame. The bonus for that frame is the number of pins knocked down by the next roll (first role of next frame).\n",
      "\n",
      "#### 10th frame\n",
      "\n",
      "If the player rolls a strike or spare in the 10th frame he can roll the additional balls for the bonus. But he can never roll more than 3 balls in the 10th frame. The additional rolls only count for the bonus not for the regular frame count.\n",
      "\n",
      "* 10, 10, 10 in the 10th frame gives 30 points (10 points for the regular first strike and 20 points for the bonus)\n",
      "* 1, 9, 10 in the 10th frame gives 20 points (10 points for the regular spare and 10 points for the bonus)\n",
      "\n",
      "#### Gutter Game\n",
      "\n",
      "A Gutter Game is when the player never hits a pin (20 zero scores).\n",
      "\n",
      "#### Perfect Game\n",
      "\n",
      "A Perfect Game is when the player rolls 12 strikes (10 regular strikes and 2 strikes for the bonus in the 10th frame). The Perfect Game scores to 300 points."
     ]
    },
    {
     "cell_type": "heading",
     "level": 3,
     "metadata": {},
     "source": [
      "Task"
     ]
    },
    {
     "cell_type": "markdown",
     "metadata": {},
     "source": [
      "Write a class BowlingGame with two methods\n",
      "+ roll(pins : int)\n",
      "+ score() : int\n",
      "\n",
      "For every roll the roll method is called. The score method returns the total score."
     ]
    },
    {
     "cell_type": "heading",
     "level": 2,
     "metadata": {},
     "source": [
      "Environment"
     ]
    },
    {
     "cell_type": "code",
     "collapsed": false,
     "input": [
      "%load_ext ipython_nose\n",
      "\n",
      "import nose.tools as nt"
     ],
     "language": "python",
     "metadata": {},
     "outputs": [],
     "prompt_number": 1
    },
    {
     "cell_type": "heading",
     "level": 2,
     "metadata": {},
     "source": [
      "Library"
     ]
    },
    {
     "cell_type": "code",
     "collapsed": false,
     "input": [
      "class BowlingGame(object):\n",
      "    '''Score a Bowling Game\n",
      "    '''\n",
      "    \n",
      "    def __init__(self):\n",
      "        self._rolls = []\n",
      "        \n",
      "    def roll(self, pins):\n",
      "        '''Peform a roll with the specified pins knocked down.'''\n",
      "        \n",
      "        if not self._valid_roll(pins):\n",
      "            raise RuntimeError, 'Pin count {} not valid.'.format(pins)\n",
      "\n",
      "        self._rolls.append(pins)\n",
      "                \n",
      "    def score(self):\n",
      "        '''Return score of the game.'''\n",
      "        score = 0\n",
      "        roll = 0\n",
      "        nrolls = len(self._rolls)\n",
      "        while roll < nrolls:\n",
      "            score += self._rolls[roll]\n",
      "            \n",
      "            try:\n",
      "                if self._is_strike(roll):\n",
      "                    score += self._rolls[roll+1] + self._rolls[roll+2]\n",
      "                    if (roll + 3) >= nrolls:\n",
      "                        break\n",
      "                elif self._is_spare(roll):\n",
      "                    score += self._rolls[roll+1] + self._rolls[roll+2]\n",
      "                    if (roll + 3) >= nrolls:\n",
      "                        break\n",
      "                    roll += 1\n",
      "                else:\n",
      "                    score += self._rolls[roll+1]\n",
      "                    roll += 1\n",
      "                    \n",
      "            except IndexError:\n",
      "                pass\n",
      "            \n",
      "            roll += 1\n",
      "                \n",
      "        return score\n",
      "        \n",
      "    def _valid_roll(self, pins):\n",
      "        '''Check that the number of pins is valid.'''\n",
      "        return pins >=0 and pins <=10\n",
      "    \n",
      "    def _is_strike(self, roll):\n",
      "        '''Is this frame a strike?'''\n",
      "        return self._rolls[roll] == 10\n",
      "    \n",
      "    def _is_spare(self, roll):\n",
      "        '''Is this frame a spare?'''\n",
      "        return (self._rolls[roll] + self._rolls[roll+1]) == 10"
     ],
     "language": "python",
     "metadata": {},
     "outputs": [],
     "prompt_number": 2
    },
    {
     "cell_type": "heading",
     "level": 2,
     "metadata": {},
     "source": [
      "Main"
     ]
    },
    {
     "cell_type": "heading",
     "level": 3,
     "metadata": {},
     "source": [
      "Test cases"
     ]
    },
    {
     "cell_type": "code",
     "collapsed": false,
     "input": [
      "game_typical = [\n",
      "    ( 1, 1,    1,   0),\n",
      "    ( 1, 2,    4,   5),\n",
      "    ( 2, 1,    4,   5),\n",
      "    ( 2, 2,    5,  14),\n",
      "    ( 3, 1,    6,  14),\n",
      "    ( 3, 2,    4,  29),\n",
      "    ( 4, 1,    5,  29),\n",
      "    ( 4, 2,    5,  49),\n",
      "    ( 5, 1,   10,  49),\n",
      "    ( 6, 1,    0,  60),\n",
      "    ( 6, 2,    1,  61),\n",
      "    ( 7, 1,    7,  61),\n",
      "    ( 7, 2,    3,  77),\n",
      "    ( 8, 1,    6,  77),\n",
      "    ( 8, 2,    4,  97),\n",
      "    ( 9, 1,   10,  97),\n",
      "    (10, 1,    2, 117),\n",
      "    (10, 2,    8, 117),\n",
      "    (10, 3,    6, 133)\n",
      "]"
     ],
     "language": "python",
     "metadata": {},
     "outputs": [],
     "prompt_number": 3
    },
    {
     "cell_type": "code",
     "collapsed": false,
     "input": [
      "game_perfect = [\n",
      "    ( 1, 1,   10,  30),\n",
      "    ( 2, 1,   10,  60),\n",
      "    ( 3, 1,   10,  90),\n",
      "    ( 4, 1,   10, 120),\n",
      "    ( 5, 1,   10, 150),\n",
      "    ( 6, 1,   10, 180),\n",
      "    ( 7, 1,   10, 210),\n",
      "    ( 8, 1,   10, 240),\n",
      "    ( 9, 1,   10, 270),\n",
      "    (10, 1,   10, 300),\n",
      "    (10, 2,   10, 300),\n",
      "    (10, 3,   10, 300),\n",
      "]"
     ],
     "language": "python",
     "metadata": {},
     "outputs": [],
     "prompt_number": 4
    },
    {
     "cell_type": "code",
     "collapsed": false,
     "input": [
      "game_gutter = [\n",
      "    ( 1, 1,    0,   0),\n",
      "    ( 1, 2,    0,   0),\n",
      "    ( 2, 1,    0,   0),\n",
      "    ( 2, 2,    0,   0),\n",
      "    ( 3, 1,    0,   0),\n",
      "    ( 3, 2,    0,   0),\n",
      "    ( 4, 1,    0,   0),\n",
      "    ( 4, 2,    0,   0),\n",
      "    ( 5, 1,    0,   0),\n",
      "    ( 5, 2,    0,   0),\n",
      "    ( 6, 1,    0,   0),\n",
      "    ( 6, 2,    0,   0),\n",
      "    ( 7, 1,    0,   0),\n",
      "    ( 7, 2,    0,   0),\n",
      "    ( 8, 1,    0,   0),\n",
      "    ( 8, 2,    0,   0),\n",
      "    ( 9, 1,    0,   0),\n",
      "    ( 9, 2,    0,   0),\n",
      "    (10, 1,    0,   0),\n",
      "    (10, 2,    0,   0),\n",
      "]"
     ],
     "language": "python",
     "metadata": {},
     "outputs": [],
     "prompt_number": 5
    },
    {
     "cell_type": "code",
     "collapsed": false,
     "input": [
      "game_single_frame = [\n",
      "    (1, 1, 2, 2),\n",
      "    (1, 2, 2, 4),\n",
      "]"
     ],
     "language": "python",
     "metadata": {},
     "outputs": [],
     "prompt_number": 6
    },
    {
     "cell_type": "code",
     "collapsed": false,
     "input": [
      "game_valid_spare = [\n",
      "    (1, 1, 5,  5),\n",
      "    (1, 2, 5, 13),\n",
      "    (2, 1, 3, 16),\n",
      "    (2, 2, 0, 16),\n",
      "]"
     ],
     "language": "python",
     "metadata": {},
     "outputs": [],
     "prompt_number": 7
    },
    {
     "cell_type": "code",
     "collapsed": false,
     "input": [
      "game_valid_strike = [\n",
      "    (1, 1, 10, 17),\n",
      "    (2, 1,  3, 17),\n",
      "    (2, 2,  4, 17),\n",
      "]"
     ],
     "language": "python",
     "metadata": {},
     "outputs": [],
     "prompt_number": 8
    },
    {
     "cell_type": "heading",
     "level": 3,
     "metadata": {},
     "source": [
      "Experiment"
     ]
    },
    {
     "cell_type": "heading",
     "level": 3,
     "metadata": {},
     "source": [
      "Test methods"
     ]
    },
    {
     "cell_type": "code",
     "collapsed": false,
     "input": [
      "def setup():\n",
      "    global game\n",
      "    game = BowlingGame()"
     ],
     "language": "python",
     "metadata": {},
     "outputs": [],
     "prompt_number": 9
    },
    {
     "cell_type": "code",
     "collapsed": false,
     "input": [
      "def is_true(test, msg):\n",
      "    assert test, msg"
     ],
     "language": "python",
     "metadata": {},
     "outputs": [],
     "prompt_number": 10
    },
    {
     "cell_type": "code",
     "collapsed": false,
     "input": [
      "def do_roll(game, pins):\n",
      "    '''Performa a roll'''\n",
      "    game.roll(pins)\n",
      "    \n",
      "@nt.raises(RuntimeError)\n",
      "def do_roll_fail(game, pins):\n",
      "    '''Performa a roll'''\n",
      "    game.roll(pins)"
     ],
     "language": "python",
     "metadata": {},
     "outputs": [],
     "prompt_number": 11
    },
    {
     "cell_type": "code",
     "collapsed": false,
     "input": [
      "@nt.with_setup(setup)\n",
      "def test_valid_rolls():\n",
      "    for pins in range(11):\n",
      "        yield do_roll, game, pins"
     ],
     "language": "python",
     "metadata": {},
     "outputs": [],
     "prompt_number": 12
    },
    {
     "cell_type": "code",
     "collapsed": false,
     "input": [
      "@nt.with_setup(setup)\n",
      "def test_invalid_rolls():\n",
      "    for pins in [-1, 11]:\n",
      "        yield do_roll_fail, game, pins"
     ],
     "language": "python",
     "metadata": {},
     "outputs": [],
     "prompt_number": 13
    },
    {
     "cell_type": "code",
     "collapsed": false,
     "input": [
      "def run_game(agame):\n",
      "    game = BowlingGame()\n",
      "    for (frame, roll, pins, score) in agame:\n",
      "        game.roll(pins)\n",
      "    return (score, game.score())"
     ],
     "language": "python",
     "metadata": {},
     "outputs": [],
     "prompt_number": 14
    },
    {
     "cell_type": "code",
     "collapsed": false,
     "input": [
      "def test_valid_score():\n",
      "    cases = [\n",
      "    game_single_frame,\n",
      "    game_valid_spare,\n",
      "    game_valid_strike,\n",
      "    game_gutter,\n",
      "    game_perfect,\n",
      "    game_typical,\n",
      "    ]\n",
      "    \n",
      "    for case in cases:\n",
      "        expected, actual = run_game(case)\n",
      "        yield is_true, expected == actual, 'Expected score {} is not the Actual score {}'.format(expected, actual)"
     ],
     "language": "python",
     "metadata": {},
     "outputs": [],
     "prompt_number": 17
    },
    {
     "cell_type": "code",
     "collapsed": false,
     "input": [
      "%nose"
     ],
     "language": "python",
     "metadata": {},
     "outputs": [
      {
       "html": [
        "<div id=\"ipython_nose_5c343f4702624ff592c8940c03090d14\"></div>"
       ],
       "metadata": {},
       "output_type": "display_data"
      },
      {
       "javascript": [
        "document.ipython_nose_5c343f4702624ff592c8940c03090d14 = $(\"#ipython_nose_5c343f4702624ff592c8940c03090d14\");"
       ],
       "metadata": {},
       "output_type": "display_data"
      },
      {
       "javascript": [
        "document.ipython_nose_5c343f4702624ff592c8940c03090d14.append($(\"<span>.</span>\"));"
       ],
       "metadata": {},
       "output_type": "display_data"
      },
      {
       "javascript": [
        "document.ipython_nose_5c343f4702624ff592c8940c03090d14.append($(\"<span>.</span>\"));"
       ],
       "metadata": {},
       "output_type": "display_data"
      },
      {
       "javascript": [
        "document.ipython_nose_5c343f4702624ff592c8940c03090d14.append($(\"<span>.</span>\"));"
       ],
       "metadata": {},
       "output_type": "display_data"
      },
      {
       "javascript": [
        "document.ipython_nose_5c343f4702624ff592c8940c03090d14.append($(\"<span>.</span>\"));"
       ],
       "metadata": {},
       "output_type": "display_data"
      },
      {
       "javascript": [
        "document.ipython_nose_5c343f4702624ff592c8940c03090d14.append($(\"<span>.</span>\"));"
       ],
       "metadata": {},
       "output_type": "display_data"
      },
      {
       "javascript": [
        "document.ipython_nose_5c343f4702624ff592c8940c03090d14.append($(\"<span>.</span>\"));"
       ],
       "metadata": {},
       "output_type": "display_data"
      },
      {
       "javascript": [
        "document.ipython_nose_5c343f4702624ff592c8940c03090d14.append($(\"<span>.</span>\"));"
       ],
       "metadata": {},
       "output_type": "display_data"
      },
      {
       "javascript": [
        "document.ipython_nose_5c343f4702624ff592c8940c03090d14.append($(\"<span>.</span>\"));"
       ],
       "metadata": {},
       "output_type": "display_data"
      },
      {
       "javascript": [
        "document.ipython_nose_5c343f4702624ff592c8940c03090d14.append($(\"<span>.</span>\"));"
       ],
       "metadata": {},
       "output_type": "display_data"
      },
      {
       "javascript": [
        "document.ipython_nose_5c343f4702624ff592c8940c03090d14.append($(\"<span>.</span>\"));"
       ],
       "metadata": {},
       "output_type": "display_data"
      },
      {
       "javascript": [
        "document.ipython_nose_5c343f4702624ff592c8940c03090d14.append($(\"<span>.</span>\"));"
       ],
       "metadata": {},
       "output_type": "display_data"
      },
      {
       "javascript": [
        "document.ipython_nose_5c343f4702624ff592c8940c03090d14.append($(\"<span>.</span>\"));"
       ],
       "metadata": {},
       "output_type": "display_data"
      },
      {
       "javascript": [
        "document.ipython_nose_5c343f4702624ff592c8940c03090d14.append($(\"<span>.</span>\"));"
       ],
       "metadata": {},
       "output_type": "display_data"
      },
      {
       "javascript": [
        "document.ipython_nose_5c343f4702624ff592c8940c03090d14.append($(\"<span>.</span>\"));"
       ],
       "metadata": {},
       "output_type": "display_data"
      },
      {
       "javascript": [
        "document.ipython_nose_5c343f4702624ff592c8940c03090d14.append($(\"<span>.</span>\"));"
       ],
       "metadata": {},
       "output_type": "display_data"
      },
      {
       "javascript": [
        "document.ipython_nose_5c343f4702624ff592c8940c03090d14.append($(\"<span>.</span>\"));"
       ],
       "metadata": {},
       "output_type": "display_data"
      },
      {
       "javascript": [
        "document.ipython_nose_5c343f4702624ff592c8940c03090d14.append($(\"<span>.</span>\"));"
       ],
       "metadata": {},
       "output_type": "display_data"
      },
      {
       "javascript": [
        "document.ipython_nose_5c343f4702624ff592c8940c03090d14.append($(\"<span>.</span>\"));"
       ],
       "metadata": {},
       "output_type": "display_data"
      },
      {
       "javascript": [
        "document.ipython_nose_5c343f4702624ff592c8940c03090d14.append($(\"<span>.</span>\"));"
       ],
       "metadata": {},
       "output_type": "display_data"
      },
      {
       "javascript": [
        "delete document.ipython_nose_5c343f4702624ff592c8940c03090d14;"
       ],
       "metadata": {},
       "output_type": "display_data"
      },
      {
       "html": [
        "    <style type=\"text/css\">\n",
        "        span.nosefailedfunc {\n",
        "            font-family: monospace;\n",
        "            font-weight: bold;\n",
        "        }\n",
        "        div.noseresults {\n",
        "            width: 100%;\n",
        "        }\n",
        "        div.nosebar {\n",
        "            float: left;\n",
        "            padding: 1ex 0px 1ex 0px;\n",
        "        }\n",
        "        div.nosebar.fail {\n",
        "            background: #ff3019; /* Old browsers */\n",
        "            /* FF3.6+ */\n",
        "            background: -moz-linear-gradient(top, #ff3019 0%, #cf0404 100%);\n",
        "            /* Chrome,Safari4+ */\n",
        "            background: -webkit-gradient(linear, left top, left bottom,\n",
        "                                         color-stop(0%,#ff3019),\n",
        "                                         color-stop(100%,#cf0404));\n",
        "            /* Chrome10+,Safari5.1+ */\n",
        "            background: -webkit-linear-gradient(top, #ff3019 0%,#cf0404 100%);\n",
        "            /* Opera 11.10+ */\n",
        "            background: -o-linear-gradient(top, #ff3019 0%,#cf0404 100%);\n",
        "            /* IE10+ */\n",
        "            background: -ms-linear-gradient(top, #ff3019 0%,#cf0404 100%);\n",
        "            /* W3C */\n",
        "            background: linear-gradient(to bottom, #ff3019 0%,#cf0404 100%);\n",
        "        }\n",
        "        div.nosebar.pass {\n",
        "            background: #52b152;\n",
        "            background: -moz-linear-gradient(top, #52b152 1%, #008a00 100%);\n",
        "            background: -webkit-gradient(linear, left top, left bottom,\n",
        "                                         color-stop(1%,#52b152),\n",
        "                                         color-stop(100%,#008a00));\n",
        "            background: -webkit-linear-gradient(top, #52b152 1%,#008a00 100%);\n",
        "            background: -o-linear-gradient(top, #52b152 1%,#008a00 100%);\n",
        "            background: -ms-linear-gradient(top, #52b152 1%,#008a00 100%);\n",
        "            background: linear-gradient(to bottom, #52b152 1%,#008a00 100%);\n",
        "        }\n",
        "        div.nosebar.skip {\n",
        "            background: #f1e767;\n",
        "            background: -moz-linear-gradient(top, #f1e767 0%, #feb645 100%);\n",
        "            background: -webkit-gradient(linear, left top, left bottom,\n",
        "                                         color-stop(0%,#f1e767),\n",
        "                                         color-stop(100%,#feb645));\n",
        "            background: -webkit-linear-gradient(top, #f1e767 0%,#feb645 100%);\n",
        "            background: -o-linear-gradient(top, #f1e767 0%,#feb645 100%);\n",
        "            background: -ms-linear-gradient(top, #f1e767 0%,#feb645 100%);\n",
        "            background: linear-gradient(to bottom, #f1e767 0%,#feb645 100%);\n",
        "        }\n",
        "        div.nosebar.leftmost {\n",
        "            border-radius: 4px 0 0 4px;\n",
        "        }\n",
        "        div.nosebar.rightmost {\n",
        "            border-radius: 0 4px 4px 0;\n",
        "        }\n",
        "        div.nosefailbanner {\n",
        "            border-radius: 4px 0 0 4px;\n",
        "            border-left: 10px solid #cf0404;\n",
        "            padding: 0.5ex 0em 0.5ex 1em;\n",
        "            margin-top: 1ex;\n",
        "            margin-bottom: 0px;\n",
        "        }\n",
        "        div.nosefailbanner.expanded {\n",
        "            border-radius: 4px 4px 0 0;\n",
        "            border-top: 10px solid #cf0404;\n",
        "        }\n",
        "        pre.nosetraceback {\n",
        "            border-radius: 0 4px 4px 4px;\n",
        "            border-left: 10px solid #cf0404;\n",
        "            padding: 1em;\n",
        "            margin-left: 0px;\n",
        "            margin-top: 0px;\n",
        "            display: none;\n",
        "        }\n",
        "    </style>\n",
        "    \n",
        "    <script>\n",
        "        setTimeout(function () {\n",
        "            $('.nosefailtoggle').bind(\n",
        "                'click',\n",
        "                function () {\n",
        "                    $(\n",
        "                        $(this)\n",
        "                            .parent().toggleClass('expanded')\n",
        "                            .parent()\n",
        "                            .children()\n",
        "                            .filter('.nosetraceback')\n",
        "                    ).toggle();\n",
        "                }\n",
        "            );},\n",
        "            0);\n",
        "    </script>\n",
        "    \n",
        "    <div class=\"noseresults\">\n",
        "      <div class=\"nosebar fail leftmost\" style=\"width: 0%\">\n",
        "          &nbsp;\n",
        "      </div>\n",
        "      <div class=\"nosebar skip\" style=\"width: 0%\">\n",
        "          &nbsp;\n",
        "      </div>\n",
        "      <div class=\"nosebar pass rightmost\" style=\"width: 100%\">\n",
        "          &nbsp;\n",
        "      </div>\n",
        "      19/19 tests passed\n",
        "    </div>\n",
        "    "
       ],
       "metadata": {},
       "output_type": "pyout",
       "prompt_number": 18,
       "text": [
        "19/19 tests passed\n"
       ]
      }
     ],
     "prompt_number": 18
    },
    {
     "cell_type": "code",
     "collapsed": false,
     "input": [],
     "language": "python",
     "metadata": {},
     "outputs": [],
     "prompt_number": 16
    }
   ],
   "metadata": {}
  }
 ]
}