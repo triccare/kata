{
 "metadata": {
  "name": "",
  "signature": "sha256:e903bbec8b672d46f1ba5c715bf134471fb7e61da97ccd9f50b8170bd8b0c769"
 },
 "nbformat": 3,
 "nbformat_minor": 0,
 "worksheets": [
  {
   "cells": [
    {
     "cell_type": "heading",
     "level": 2,
     "metadata": {},
     "source": [
      "Abstract"
     ]
    },
    {
     "cell_type": "heading",
     "level": 3,
     "metadata": {},
     "source": [
      "Instructions"
     ]
    },
    {
     "cell_type": "markdown",
     "metadata": {},
     "source": [
      "Copy the basic notebook to a notebook with a date indicator. Perform the kata in this new notebook."
     ]
    },
    {
     "cell_type": "heading",
     "level": 3,
     "metadata": {},
     "source": [
      "Scenario"
     ]
    },
    {
     "cell_type": "markdown",
     "metadata": {},
     "source": [
      "#### Count and sum the scores of a bowling game of one player.\n",
      "\n",
      "A bowling game consists of 10 frames in which the player tries to knock down the 10 pins. In every frame the player can throw one or two times. The actual number depends on strikes and spares. The score of a frame is the number of knocked down pins plus bonuses for strikes and spares. After every frame the 10 pins are resettet.\n",
      "\n",
      "#### Strikes\n",
      "\n",
      "The player has a strike of he knocks down all 10 pins with the first roll in a frame. The frame ends immediately (since there are no pins left for a second roll). The bonus for that frame is the number of pins knocked down by the next two rolls. That is the next frame, except if the player rolls a strike again.\n",
      "\n",
      "#### Spares\n",
      "\n",
      "The player has a spare if the knocks down all 10 pins with the two roles of a frame. The bonus for that frame is the number of pins knocked down by the next roll (first role of next frame).\n",
      "\n",
      "#### 10th frame\n",
      "\n",
      "If the player rolls a strike or spare in the 10th frame he can roll the additional balls for the bonus. But he can never roll more than 3 balls in the 10th frame. The additional rolls only count for the bonus not for the regular frame count.\n",
      "\n",
      "* 10, 10, 10 in the 10th frame gives 30 points (10 points for the regular first strike and 20 points for the bonus)\n",
      "* 1, 9, 10 in the 10th frame gives 20 points (10 points for the regular spare and 10 points for the bonus)\n",
      "\n",
      "#### Gutter Game\n",
      "\n",
      "A Gutter Game is when the player never hits a pin (20 zero scores).\n",
      "\n",
      "#### Perfect Game\n",
      "\n",
      "A Perfect Game is when the player rolls 12 strikes (10 regular strikes and 2 strikes for the bonus in the 10th frame). The Perfect Game scores to 300 points."
     ]
    },
    {
     "cell_type": "heading",
     "level": 3,
     "metadata": {},
     "source": [
      "Task"
     ]
    },
    {
     "cell_type": "markdown",
     "metadata": {},
     "source": [
      "Write a class BowlingGame with two methods\n",
      "+ roll(pins : int)\n",
      "+ score() : int\n",
      "\n",
      "For every roll the roll method is called. The score method returns the total score."
     ]
    },
    {
     "cell_type": "heading",
     "level": 2,
     "metadata": {},
     "source": [
      "Environment"
     ]
    },
    {
     "cell_type": "code",
     "collapsed": false,
     "input": [
      "%load_ext ipython_nose"
     ],
     "language": "python",
     "metadata": {},
     "outputs": [],
     "prompt_number": 1
    },
    {
     "cell_type": "heading",
     "level": 2,
     "metadata": {},
     "source": [
      "Library"
     ]
    },
    {
     "cell_type": "code",
     "collapsed": false,
     "input": [
      "class BowlingGame(object):\n",
      "    pass"
     ],
     "language": "python",
     "metadata": {},
     "outputs": [],
     "prompt_number": 1
    },
    {
     "cell_type": "heading",
     "level": 2,
     "metadata": {},
     "source": [
      "Main"
     ]
    },
    {
     "cell_type": "heading",
     "level": 3,
     "metadata": {},
     "source": [
      "Test cases"
     ]
    },
    {
     "cell_type": "code",
     "collapsed": false,
     "input": [
      "game_typical = [\n",
      "    ( 1, 1,    1,   0),\n",
      "    ( 1, 2,    4,   5),\n",
      "    ( 2, 1,    4,   5),\n",
      "    ( 2, 2,    5,  14),\n",
      "    ( 3, 1,    6,  14),\n",
      "    ( 3, 2,    4,  29),\n",
      "    ( 4, 1,    5,  29),\n",
      "    ( 4, 2,    5,  49),\n",
      "    ( 5, 1,   10,  49),\n",
      "    ( 5, 2, None,  60),\n",
      "    ( 6, 1,    0,  60),\n",
      "    ( 6, 2,    1,  61),\n",
      "    ( 7, 1,    7,  61),\n",
      "    ( 7, 2,    3,  77),\n",
      "    ( 8, 1,    6,  77),\n",
      "    ( 8, 2,    4,  97),\n",
      "    ( 9, 1,   10,  97),\n",
      "    ( 9, 2, None, 117),\n",
      "    (10, 1,    2, 117),\n",
      "    (10, 2,    8, 117),\n",
      "    (10, 3,    6, 133)\n",
      "]"
     ],
     "language": "python",
     "metadata": {},
     "outputs": [],
     "prompt_number": 2
    },
    {
     "cell_type": "code",
     "collapsed": false,
     "input": [
      "game_perfect = [\n",
      "    ( 1, 1,   10,   0),\n",
      "    ( 1, 2, None,  30),\n",
      "    ( 2, 1,   10,  30),\n",
      "    ( 2, 2, None,  60),\n",
      "    ( 3, 1,   10,  60),\n",
      "    ( 3, 2, None,  90),\n",
      "    ( 4, 1,   10,  90),\n",
      "    ( 4, 2, None, 120),\n",
      "    ( 5, 1,   10, 120),\n",
      "    ( 5, 2, None, 150),\n",
      "    ( 6, 1,   10, 150),\n",
      "    ( 6, 2, None, 180),\n",
      "    ( 7, 1,   10, 180),\n",
      "    ( 7, 2, None, 210),\n",
      "    ( 8, 1,   10, 210),\n",
      "    ( 8, 2, None, 240),\n",
      "    ( 9, 1,   10, 240),\n",
      "    ( 9, 2, None, 270),\n",
      "    (10, 1,   10, 270),\n",
      "    (10, 2, None, 300),\n",
      "    (10, 3,   10, 300),\n",
      "    (10, 4, None, 300),\n",
      "]"
     ],
     "language": "python",
     "metadata": {},
     "outputs": [],
     "prompt_number": 3
    },
    {
     "cell_type": "code",
     "collapsed": false,
     "input": [
      "game_gutter = [\n",
      "    ( 1, 1,    0,   0),\n",
      "    ( 1, 2,    0,   0),\n",
      "    ( 2, 1,    0,   0),\n",
      "    ( 2, 2,    0,   0),\n",
      "    ( 3, 1,    0,   0),\n",
      "    ( 3, 2,    0,   0),\n",
      "    ( 4, 1,    0,   0),\n",
      "    ( 4, 2,    0,   0),\n",
      "    ( 5, 1,    0,   0),\n",
      "    ( 5, 2,    0,   0),\n",
      "    ( 6, 1,    0,   0),\n",
      "    ( 6, 2,    0,   0),\n",
      "    ( 7, 1,    0,   0),\n",
      "    ( 7, 2,    0,   0),\n",
      "    ( 8, 1,    0,   0),\n",
      "    ( 8, 2,    0,   0),\n",
      "    ( 9, 1,    0,   0),\n",
      "    ( 9, 2,    0,   0),\n",
      "    (10, 1,    0,   0),\n",
      "    (10, 2,    0,   0),\n",
      "]"
     ],
     "language": "python",
     "metadata": {},
     "outputs": [],
     "prompt_number": 4
    },
    {
     "cell_type": "heading",
     "level": 3,
     "metadata": {},
     "source": [
      "Test methods"
     ]
    },
    {
     "cell_type": "code",
     "collapsed": false,
     "input": [
      "%nose"
     ],
     "language": "python",
     "metadata": {},
     "outputs": [
      {
       "html": [
        "<div id=\"ipython_nose_0769aea3372244a8a30e727423e53594\"></div>"
       ],
       "metadata": {},
       "output_type": "display_data"
      },
      {
       "javascript": [
        "document.ipython_nose_0769aea3372244a8a30e727423e53594 = $(\"#ipython_nose_0769aea3372244a8a30e727423e53594\");"
       ],
       "metadata": {},
       "output_type": "display_data"
      },
      {
       "javascript": [
        "delete document.ipython_nose_0769aea3372244a8a30e727423e53594;"
       ],
       "metadata": {},
       "output_type": "display_data"
      },
      {
       "html": [
        "No tests found."
       ],
       "metadata": {},
       "output_type": "pyout",
       "prompt_number": 2,
       "text": [
        "No tests found."
       ]
      }
     ],
     "prompt_number": 2
    }
   ],
   "metadata": {}
  }
 ]
}